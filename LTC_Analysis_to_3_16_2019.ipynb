{
    "nbformat_minor": 1, 
    "cells": [
        {
            "source": "### Analysis of LTC based on previous 365 days of trading data.", 
            "cell_type": "markdown", 
            "metadata": {}
        }, 
        {
            "execution_count": 26, 
            "cell_type": "code", 
            "metadata": {}, 
            "outputs": [
                {
                    "execution_count": 26, 
                    "metadata": {}, 
                    "data": {
                        "text/html": "<div>\n<style scoped>\n    .dataframe tbody tr th:only-of-type {\n        vertical-align: middle;\n    }\n\n    .dataframe tbody tr th {\n        vertical-align: top;\n    }\n\n    .dataframe thead th {\n        text-align: right;\n    }\n</style>\n<table border=\"1\" class=\"dataframe\">\n  <thead>\n    <tr style=\"text-align: right;\">\n      <th></th>\n      <th>Date</th>\n      <th>Open</th>\n      <th>High</th>\n      <th>Low</th>\n      <th>Close</th>\n      <th>Volume</th>\n    </tr>\n  </thead>\n  <tbody>\n    <tr>\n      <th>0</th>\n      <td>3/16/19</td>\n      <td>58.99</td>\n      <td>62.09</td>\n      <td>58.99</td>\n      <td>61.84</td>\n      <td>1,997,899,601</td>\n    </tr>\n    <tr>\n      <th>1</th>\n      <td>3/15/19</td>\n      <td>56.54</td>\n      <td>59.39</td>\n      <td>56.54</td>\n      <td>58.99</td>\n      <td>1,824,454,595</td>\n    </tr>\n    <tr>\n      <th>2</th>\n      <td>3/14/19</td>\n      <td>55.86</td>\n      <td>57.76</td>\n      <td>55.79</td>\n      <td>56.58</td>\n      <td>1,610,293,200</td>\n    </tr>\n    <tr>\n      <th>3</th>\n      <td>3/13/19</td>\n      <td>57.08</td>\n      <td>57.21</td>\n      <td>55.43</td>\n      <td>55.93</td>\n      <td>1,465,625,295</td>\n    </tr>\n    <tr>\n      <th>4</th>\n      <td>3/12/19</td>\n      <td>55.41</td>\n      <td>57.26</td>\n      <td>53.50</td>\n      <td>57.00</td>\n      <td>1,666,711,996</td>\n    </tr>\n    <tr>\n      <th>5</th>\n      <td>3/11/19</td>\n      <td>57.19</td>\n      <td>57.85</td>\n      <td>54.83</td>\n      <td>55.42</td>\n      <td>1,839,260,243</td>\n    </tr>\n    <tr>\n      <th>6</th>\n      <td>3/10/19</td>\n      <td>58.10</td>\n      <td>58.25</td>\n      <td>56.59</td>\n      <td>57.18</td>\n      <td>1,778,709,344</td>\n    </tr>\n    <tr>\n      <th>7</th>\n      <td>3/9/19</td>\n      <td>56.00</td>\n      <td>59.29</td>\n      <td>56.00</td>\n      <td>58.09</td>\n      <td>2,145,350,395</td>\n    </tr>\n    <tr>\n      <th>8</th>\n      <td>3/8/19</td>\n      <td>57.44</td>\n      <td>57.65</td>\n      <td>55.45</td>\n      <td>56.10</td>\n      <td>1,977,538,387</td>\n    </tr>\n    <tr>\n      <th>9</th>\n      <td>3/7/19</td>\n      <td>55.84</td>\n      <td>59.00</td>\n      <td>55.08</td>\n      <td>57.19</td>\n      <td>2,410,843,754</td>\n    </tr>\n    <tr>\n      <th>10</th>\n      <td>3/6/19</td>\n      <td>53.02</td>\n      <td>56.27</td>\n      <td>52.28</td>\n      <td>55.78</td>\n      <td>1,998,850,452</td>\n    </tr>\n    <tr>\n      <th>11</th>\n      <td>3/5/19</td>\n      <td>46.52</td>\n      <td>54.02</td>\n      <td>46.14</td>\n      <td>53.13</td>\n      <td>2,000,300,862</td>\n    </tr>\n    <tr>\n      <th>12</th>\n      <td>3/4/19</td>\n      <td>48.33</td>\n      <td>48.65</td>\n      <td>45.85</td>\n      <td>46.43</td>\n      <td>1,243,464,082</td>\n    </tr>\n    <tr>\n      <th>13</th>\n      <td>3/3/19</td>\n      <td>49.02</td>\n      <td>49.39</td>\n      <td>48.09</td>\n      <td>48.38</td>\n      <td>1,102,677,211</td>\n    </tr>\n    <tr>\n      <th>14</th>\n      <td>3/2/19</td>\n      <td>47.48</td>\n      <td>49.64</td>\n      <td>47.46</td>\n      <td>49.02</td>\n      <td>1,227,656,624</td>\n    </tr>\n    <tr>\n      <th>15</th>\n      <td>3/1/19</td>\n      <td>46.24</td>\n      <td>48.99</td>\n      <td>46.15</td>\n      <td>47.49</td>\n      <td>1,175,425,172</td>\n    </tr>\n    <tr>\n      <th>16</th>\n      <td>2/28/19</td>\n      <td>45.62</td>\n      <td>46.92</td>\n      <td>45.60</td>\n      <td>46.24</td>\n      <td>1,119,495,712</td>\n    </tr>\n    <tr>\n      <th>17</th>\n      <td>2/27/19</td>\n      <td>45.50</td>\n      <td>46.14</td>\n      <td>44.41</td>\n      <td>45.58</td>\n      <td>1,061,879,935</td>\n    </tr>\n    <tr>\n      <th>18</th>\n      <td>2/26/19</td>\n      <td>46.18</td>\n      <td>46.52</td>\n      <td>45.09</td>\n      <td>45.49</td>\n      <td>1,060,325,373</td>\n    </tr>\n    <tr>\n      <th>19</th>\n      <td>2/25/19</td>\n      <td>44.58</td>\n      <td>47.19</td>\n      <td>44.58</td>\n      <td>46.21</td>\n      <td>1,212,141,472</td>\n    </tr>\n    <tr>\n      <th>20</th>\n      <td>2/24/19</td>\n      <td>51.68</td>\n      <td>53.42</td>\n      <td>43.66</td>\n      <td>44.68</td>\n      <td>1,618,048,131</td>\n    </tr>\n    <tr>\n      <th>21</th>\n      <td>2/23/19</td>\n      <td>49.67</td>\n      <td>51.89</td>\n      <td>48.67</td>\n      <td>51.68</td>\n      <td>1,278,039,837</td>\n    </tr>\n    <tr>\n      <th>22</th>\n      <td>2/22/19</td>\n      <td>49.13</td>\n      <td>50.03</td>\n      <td>48.72</td>\n      <td>49.81</td>\n      <td>1,213,665,948</td>\n    </tr>\n    <tr>\n      <th>23</th>\n      <td>2/21/19</td>\n      <td>51.84</td>\n      <td>51.84</td>\n      <td>48.68</td>\n      <td>49.15</td>\n      <td>1,259,734,341</td>\n    </tr>\n    <tr>\n      <th>24</th>\n      <td>2/20/19</td>\n      <td>47.82</td>\n      <td>52.16</td>\n      <td>47.41</td>\n      <td>51.79</td>\n      <td>1,582,934,318</td>\n    </tr>\n    <tr>\n      <th>25</th>\n      <td>2/19/19</td>\n      <td>48.14</td>\n      <td>49.18</td>\n      <td>47.27</td>\n      <td>47.86</td>\n      <td>1,417,050,580</td>\n    </tr>\n    <tr>\n      <th>26</th>\n      <td>2/18/19</td>\n      <td>43.88</td>\n      <td>49.22</td>\n      <td>43.84</td>\n      <td>48.04</td>\n      <td>1,462,180,271</td>\n    </tr>\n    <tr>\n      <th>27</th>\n      <td>2/17/19</td>\n      <td>43.40</td>\n      <td>44.65</td>\n      <td>42.91</td>\n      <td>43.93</td>\n      <td>1,089,205,822</td>\n    </tr>\n    <tr>\n      <th>28</th>\n      <td>2/16/19</td>\n      <td>42.76</td>\n      <td>44.18</td>\n      <td>42.57</td>\n      <td>43.59</td>\n      <td>1,017,844,635</td>\n    </tr>\n    <tr>\n      <th>29</th>\n      <td>2/15/19</td>\n      <td>41.64</td>\n      <td>43.68</td>\n      <td>41.62</td>\n      <td>42.70</td>\n      <td>1,043,820,661</td>\n    </tr>\n    <tr>\n      <th>30</th>\n      <td>2/14/19</td>\n      <td>41.88</td>\n      <td>42.55</td>\n      <td>41.27</td>\n      <td>41.64</td>\n      <td>997,741,394</td>\n    </tr>\n  </tbody>\n</table>\n</div>", 
                        "text/plain": "       Date   Open   High    Low  Close         Volume\n0   3/16/19  58.99  62.09  58.99  61.84  1,997,899,601\n1   3/15/19  56.54  59.39  56.54  58.99  1,824,454,595\n2   3/14/19  55.86  57.76  55.79  56.58  1,610,293,200\n3   3/13/19  57.08  57.21  55.43  55.93  1,465,625,295\n4   3/12/19  55.41  57.26  53.50  57.00  1,666,711,996\n5   3/11/19  57.19  57.85  54.83  55.42  1,839,260,243\n6   3/10/19  58.10  58.25  56.59  57.18  1,778,709,344\n7    3/9/19  56.00  59.29  56.00  58.09  2,145,350,395\n8    3/8/19  57.44  57.65  55.45  56.10  1,977,538,387\n9    3/7/19  55.84  59.00  55.08  57.19  2,410,843,754\n10   3/6/19  53.02  56.27  52.28  55.78  1,998,850,452\n11   3/5/19  46.52  54.02  46.14  53.13  2,000,300,862\n12   3/4/19  48.33  48.65  45.85  46.43  1,243,464,082\n13   3/3/19  49.02  49.39  48.09  48.38  1,102,677,211\n14   3/2/19  47.48  49.64  47.46  49.02  1,227,656,624\n15   3/1/19  46.24  48.99  46.15  47.49  1,175,425,172\n16  2/28/19  45.62  46.92  45.60  46.24  1,119,495,712\n17  2/27/19  45.50  46.14  44.41  45.58  1,061,879,935\n18  2/26/19  46.18  46.52  45.09  45.49  1,060,325,373\n19  2/25/19  44.58  47.19  44.58  46.21  1,212,141,472\n20  2/24/19  51.68  53.42  43.66  44.68  1,618,048,131\n21  2/23/19  49.67  51.89  48.67  51.68  1,278,039,837\n22  2/22/19  49.13  50.03  48.72  49.81  1,213,665,948\n23  2/21/19  51.84  51.84  48.68  49.15  1,259,734,341\n24  2/20/19  47.82  52.16  47.41  51.79  1,582,934,318\n25  2/19/19  48.14  49.18  47.27  47.86  1,417,050,580\n26  2/18/19  43.88  49.22  43.84  48.04  1,462,180,271\n27  2/17/19  43.40  44.65  42.91  43.93  1,089,205,822\n28  2/16/19  42.76  44.18  42.57  43.59  1,017,844,635\n29  2/15/19  41.64  43.68  41.62  42.70  1,043,820,661\n30  2/14/19  41.88  42.55  41.27  41.64    997,741,394"
                    }, 
                    "output_type": "execute_result"
                }
            ], 
            "source": "df_data_1.head(31)"
        }, 
        {
            "source": "### Probability price will drop over a certain percentage in one day", 
            "cell_type": "markdown", 
            "metadata": {}
        }, 
        {
            "execution_count": 12, 
            "cell_type": "code", 
            "metadata": {}, 
            "outputs": [
                {
                    "output_type": "stream", 
                    "name": "stdout", 
                    "text": "The probability is 0.125296873479\n"
                }
            ], 
            "source": "# probability that the price of LTC will drop over 5% in a day\nprob_return1 = norm.cdf(-0.05, mu, sigma)\nprint('The probability is', prob_return1)"
        }, 
        {
            "execution_count": 13, 
            "cell_type": "code", 
            "metadata": {}, 
            "outputs": [
                {
                    "output_type": "stream", 
                    "name": "stdout", 
                    "text": "The probability is 0.0140409942516\n"
                }
            ], 
            "source": "# probability that the price of LTC will drop over 10% in a day\nprob_return2 = norm.cdf(-0.10, mu, sigma)\nprint('The probability is', prob_return2)"
        }, 
        {
            "source": "### Probability price will drop over a certain percentage over time", 
            "cell_type": "markdown", 
            "metadata": {}
        }, 
        {
            "execution_count": 14, 
            "cell_type": "code", 
            "metadata": {}, 
            "outputs": [
                {
                    "output_type": "stream", 
                    "name": "stdout", 
                    "text": "The probability of dropping over 10% in 7 days is 0.144425410441\n"
                }
            ], 
            "source": "# drop over 10% in 7 days\nmu7 = 7*mu\nsigma7 = (7**0.5) * sigma\ndrop10 = norm.cdf(-0.1, mu7, sigma7)\nprint('The probability of dropping over 10% in 7 days is', drop10)"
        }, 
        {
            "execution_count": 15, 
            "cell_type": "code", 
            "metadata": {}, 
            "outputs": [
                {
                    "output_type": "stream", 
                    "name": "stdout", 
                    "text": "The probability of dropping over 20% in 7 days is 0.0319929591868\n"
                }
            ], 
            "source": "# drop over 20% in 7 days\nmu7 = 7*mu\nsigma7 = (7**0.5) * sigma\ndrop20 = norm.cdf(-0.2, mu7, sigma7)\nprint('The probability of dropping over 20% in 7 days is', drop20)"
        }, 
        {
            "execution_count": 16, 
            "cell_type": "code", 
            "metadata": {}, 
            "outputs": [
                {
                    "output_type": "stream", 
                    "name": "stdout", 
                    "text": "The probability of dropping over 10% in 14 days is 0.173554523152\n"
                }
            ], 
            "source": "# drop over 10% in 14 days\nmu14 = 14*mu\nsigma14 = (14**0.5) * sigma\ndrop10 = norm.cdf(-0.1, mu14, sigma14)\nprint('The probability of dropping over 10% in 14 days is', drop10)"
        }, 
        {
            "execution_count": 17, 
            "cell_type": "code", 
            "metadata": {}, 
            "outputs": [
                {
                    "output_type": "stream", 
                    "name": "stdout", 
                    "text": "The probability of dropping over 20% in 30 days is 0.0931338647942\n"
                }
            ], 
            "source": "# drop over 20% in 30 days\nmu30 = 30*mu\nsigma30 = (30**0.5) * sigma\ndrop20 = norm.cdf(-0.2, mu30, sigma30)\nprint('The probability of dropping over 20% in 30 days is', drop20)"
        }, 
        {
            "execution_count": 18, 
            "cell_type": "code", 
            "metadata": {}, 
            "outputs": [
                {
                    "output_type": "stream", 
                    "name": "stdout", 
                    "text": "The probability of dropping over 30% in 30 days is 0.0441816144437\n"
                }
            ], 
            "source": "# drop over 30% in 30 days\nmu30 = 30*mu\nsigma30 = (30**0.5) * sigma\ndrop30 = norm.cdf(-0.3, mu30, sigma30)\nprint('The probability of dropping over 30% in 30 days is', drop30)"
        }, 
        {
            "execution_count": 19, 
            "cell_type": "code", 
            "metadata": {}, 
            "outputs": [
                {
                    "output_type": "stream", 
                    "name": "stdout", 
                    "text": "The probability of dropping over 20% in 220 days is 0.036683446636\n"
                }
            ], 
            "source": "# drop over 20% in 220 days\nmu220 = 220*mu\nsigma220 = (220**0.5) * sigma\ndrop20 = norm.cdf(-0.2, mu220, sigma220)\nprint('The probability of dropping over 20% in 220 days is', drop20)"
        }, 
        {
            "execution_count": 20, 
            "cell_type": "code", 
            "metadata": {}, 
            "outputs": [
                {
                    "output_type": "stream", 
                    "name": "stdout", 
                    "text": "The probability of dropping over 40% in 220 days is 0.0190880631533\n"
                }
            ], 
            "source": "# drop over 40% in 220 days\nmu220 = 220*mu\nsigma220 = (220**0.5) * sigma\ndrop40 = norm.cdf(-0.4, mu220, sigma220)\nprint('The probability of dropping over 40% in 220 days is', drop40)"
        }, 
        {
            "source": "### For education purposes only. This information is not financial advice.", 
            "cell_type": "markdown", 
            "metadata": {}
        }
    ], 
    "metadata": {
        "kernelspec": {
            "display_name": "Python 3.5", 
            "name": "python3", 
            "language": "python"
        }, 
        "language_info": {
            "mimetype": "text/x-python", 
            "nbconvert_exporter": "python", 
            "version": "3.5.5", 
            "name": "python", 
            "file_extension": ".py", 
            "pygments_lexer": "ipython3", 
            "codemirror_mode": {
                "version": 3, 
                "name": "ipython"
            }
        }
    }, 
    "nbformat": 4
}