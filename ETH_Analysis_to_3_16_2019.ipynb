{
    "nbformat_minor": 1, 
    "cells": [
        {
            "source": "### Analysis of ETH based on previous 365 days of trading data.", 
            "cell_type": "markdown", 
            "metadata": {}
        }, 
        {
            "execution_count": 23, 
            "cell_type": "code", 
            "metadata": {}, 
            "outputs": [
                {
                    "execution_count": 23, 
                    "metadata": {}, 
                    "data": {
                        "text/html": "<div>\n<style scoped>\n    .dataframe tbody tr th:only-of-type {\n        vertical-align: middle;\n    }\n\n    .dataframe tbody tr th {\n        vertical-align: top;\n    }\n\n    .dataframe thead th {\n        text-align: right;\n    }\n</style>\n<table border=\"1\" class=\"dataframe\">\n  <thead>\n    <tr style=\"text-align: right;\">\n      <th></th>\n      <th>Date</th>\n      <th>Open</th>\n      <th>High</th>\n      <th>Low</th>\n      <th>Close</th>\n      <th>Volume</th>\n    </tr>\n  </thead>\n  <tbody>\n    <tr>\n      <th>0</th>\n      <td>3/16/19</td>\n      <td>137.91</td>\n      <td>144.56</td>\n      <td>137.91</td>\n      <td>142.40</td>\n      <td>4,839,003,569</td>\n    </tr>\n    <tr>\n      <th>1</th>\n      <td>3/15/19</td>\n      <td>133.57</td>\n      <td>138.40</td>\n      <td>133.57</td>\n      <td>137.69</td>\n      <td>4,506,861,856</td>\n    </tr>\n    <tr>\n      <th>2</th>\n      <td>3/14/19</td>\n      <td>133.20</td>\n      <td>135.18</td>\n      <td>132.75</td>\n      <td>133.71</td>\n      <td>4,476,532,147</td>\n    </tr>\n    <tr>\n      <th>3</th>\n      <td>3/13/19</td>\n      <td>134.61</td>\n      <td>134.61</td>\n      <td>132.72</td>\n      <td>133.26</td>\n      <td>4,265,162,099</td>\n    </tr>\n    <tr>\n      <th>4</th>\n      <td>3/12/19</td>\n      <td>134.01</td>\n      <td>135.27</td>\n      <td>130.94</td>\n      <td>134.44</td>\n      <td>4,709,988,000</td>\n    </tr>\n    <tr>\n      <th>5</th>\n      <td>3/11/19</td>\n      <td>136.85</td>\n      <td>137.35</td>\n      <td>133.10</td>\n      <td>133.83</td>\n      <td>4,689,807,419</td>\n    </tr>\n    <tr>\n      <th>6</th>\n      <td>3/10/19</td>\n      <td>138.18</td>\n      <td>138.27</td>\n      <td>135.69</td>\n      <td>136.76</td>\n      <td>4,578,438,499</td>\n    </tr>\n    <tr>\n      <th>7</th>\n      <td>3/9/19</td>\n      <td>134.89</td>\n      <td>139.12</td>\n      <td>134.68</td>\n      <td>137.97</td>\n      <td>5,011,918,715</td>\n    </tr>\n    <tr>\n      <th>8</th>\n      <td>3/8/19</td>\n      <td>138.31</td>\n      <td>139.50</td>\n      <td>133.56</td>\n      <td>135.13</td>\n      <td>4,678,816,794</td>\n    </tr>\n    <tr>\n      <th>9</th>\n      <td>3/7/19</td>\n      <td>138.94</td>\n      <td>140.86</td>\n      <td>137.27</td>\n      <td>138.03</td>\n      <td>4,339,206,292</td>\n    </tr>\n    <tr>\n      <th>10</th>\n      <td>3/6/19</td>\n      <td>137.96</td>\n      <td>139.97</td>\n      <td>136.15</td>\n      <td>138.79</td>\n      <td>4,589,054,219</td>\n    </tr>\n    <tr>\n      <th>11</th>\n      <td>3/5/19</td>\n      <td>127.79</td>\n      <td>138.23</td>\n      <td>126.74</td>\n      <td>137.82</td>\n      <td>4,764,849,990</td>\n    </tr>\n    <tr>\n      <th>12</th>\n      <td>3/4/19</td>\n      <td>132.16</td>\n      <td>132.73</td>\n      <td>125.40</td>\n      <td>127.77</td>\n      <td>4,008,171,341</td>\n    </tr>\n    <tr>\n      <th>13</th>\n      <td>3/3/19</td>\n      <td>134.79</td>\n      <td>135.85</td>\n      <td>131.33</td>\n      <td>132.25</td>\n      <td>3,454,374,053</td>\n    </tr>\n    <tr>\n      <th>14</th>\n      <td>3/2/19</td>\n      <td>136.35</td>\n      <td>137.18</td>\n      <td>132.44</td>\n      <td>134.21</td>\n      <td>3,747,176,425</td>\n    </tr>\n    <tr>\n      <th>15</th>\n      <td>3/1/19</td>\n      <td>136.84</td>\n      <td>139.00</td>\n      <td>136.43</td>\n      <td>136.44</td>\n      <td>3,756,124,824</td>\n    </tr>\n    <tr>\n      <th>16</th>\n      <td>2/28/19</td>\n      <td>136.28</td>\n      <td>138.85</td>\n      <td>135.66</td>\n      <td>136.75</td>\n      <td>4,535,438,953</td>\n    </tr>\n    <tr>\n      <th>17</th>\n      <td>2/27/19</td>\n      <td>138.03</td>\n      <td>141.34</td>\n      <td>131.60</td>\n      <td>136.13</td>\n      <td>4,469,776,860</td>\n    </tr>\n    <tr>\n      <th>18</th>\n      <td>2/26/19</td>\n      <td>139.65</td>\n      <td>139.98</td>\n      <td>136.58</td>\n      <td>138.09</td>\n      <td>3,791,292,839</td>\n    </tr>\n    <tr>\n      <th>19</th>\n      <td>2/25/19</td>\n      <td>135.50</td>\n      <td>142.53</td>\n      <td>135.48</td>\n      <td>139.82</td>\n      <td>4,914,392,068</td>\n    </tr>\n    <tr>\n      <th>20</th>\n      <td>2/24/19</td>\n      <td>158.90</td>\n      <td>165.55</td>\n      <td>135.85</td>\n      <td>135.85</td>\n      <td>5,957,715,043</td>\n    </tr>\n  </tbody>\n</table>\n</div>", 
                        "text/plain": "       Date    Open    High     Low   Close         Volume\n0   3/16/19  137.91  144.56  137.91  142.40  4,839,003,569\n1   3/15/19  133.57  138.40  133.57  137.69  4,506,861,856\n2   3/14/19  133.20  135.18  132.75  133.71  4,476,532,147\n3   3/13/19  134.61  134.61  132.72  133.26  4,265,162,099\n4   3/12/19  134.01  135.27  130.94  134.44  4,709,988,000\n5   3/11/19  136.85  137.35  133.10  133.83  4,689,807,419\n6   3/10/19  138.18  138.27  135.69  136.76  4,578,438,499\n7    3/9/19  134.89  139.12  134.68  137.97  5,011,918,715\n8    3/8/19  138.31  139.50  133.56  135.13  4,678,816,794\n9    3/7/19  138.94  140.86  137.27  138.03  4,339,206,292\n10   3/6/19  137.96  139.97  136.15  138.79  4,589,054,219\n11   3/5/19  127.79  138.23  126.74  137.82  4,764,849,990\n12   3/4/19  132.16  132.73  125.40  127.77  4,008,171,341\n13   3/3/19  134.79  135.85  131.33  132.25  3,454,374,053\n14   3/2/19  136.35  137.18  132.44  134.21  3,747,176,425\n15   3/1/19  136.84  139.00  136.43  136.44  3,756,124,824\n16  2/28/19  136.28  138.85  135.66  136.75  4,535,438,953\n17  2/27/19  138.03  141.34  131.60  136.13  4,469,776,860\n18  2/26/19  139.65  139.98  136.58  138.09  3,791,292,839\n19  2/25/19  135.50  142.53  135.48  139.82  4,914,392,068\n20  2/24/19  158.90  165.55  135.85  135.85  5,957,715,043"
                    }, 
                    "output_type": "execute_result"
                }
            ], 
            "source": "df_eth.head(21)"
        }, 
        {
            "execution_count": 25, 
            "cell_type": "code", 
            "metadata": {}, 
            "outputs": [
                {
                    "execution_count": 25, 
                    "metadata": {}, 
                    "data": {
                        "text/html": "<div>\n<style scoped>\n    .dataframe tbody tr th:only-of-type {\n        vertical-align: middle;\n    }\n\n    .dataframe tbody tr th {\n        vertical-align: top;\n    }\n\n    .dataframe thead th {\n        text-align: right;\n    }\n</style>\n<table border=\"1\" class=\"dataframe\">\n  <thead>\n    <tr style=\"text-align: right;\">\n      <th></th>\n      <th>Date</th>\n      <th>Open</th>\n      <th>High</th>\n      <th>Low</th>\n      <th>Close</th>\n      <th>Volume</th>\n      <th>MA10</th>\n      <th>MA50</th>\n    </tr>\n  </thead>\n  <tbody>\n    <tr>\n      <th>49</th>\n      <td>1/26/19</td>\n      <td>116.37</td>\n      <td>118.08</td>\n      <td>115.98</td>\n      <td>116.49</td>\n      <td>2,412,181,169</td>\n      <td>109.141</td>\n      <td>127.8150</td>\n    </tr>\n    <tr>\n      <th>50</th>\n      <td>1/25/19</td>\n      <td>117.59</td>\n      <td>117.80</td>\n      <td>115.83</td>\n      <td>116.38</td>\n      <td>2,606,881,898</td>\n      <td>109.997</td>\n      <td>127.2946</td>\n    </tr>\n    <tr>\n      <th>51</th>\n      <td>1/24/19</td>\n      <td>117.46</td>\n      <td>118.03</td>\n      <td>116.01</td>\n      <td>117.36</td>\n      <td>2,520,843,420</td>\n      <td>110.984</td>\n      <td>126.8880</td>\n    </tr>\n    <tr>\n      <th>52</th>\n      <td>1/23/19</td>\n      <td>118.71</td>\n      <td>119.42</td>\n      <td>116.38</td>\n      <td>117.45</td>\n      <td>2,556,952,198</td>\n      <td>111.686</td>\n      <td>126.5628</td>\n    </tr>\n    <tr>\n      <th>53</th>\n      <td>1/22/19</td>\n      <td>117.11</td>\n      <td>119.66</td>\n      <td>114.68</td>\n      <td>118.75</td>\n      <td>2,552,507,405</td>\n      <td>112.800</td>\n      <td>126.2726</td>\n    </tr>\n    <tr>\n      <th>54</th>\n      <td>1/21/19</td>\n      <td>119.64</td>\n      <td>119.72</td>\n      <td>116.16</td>\n      <td>117.16</td>\n      <td>2,421,720,343</td>\n      <td>113.810</td>\n      <td>125.9270</td>\n    </tr>\n    <tr>\n      <th>55</th>\n      <td>1/20/19</td>\n      <td>124.63</td>\n      <td>125.07</td>\n      <td>118.70</td>\n      <td>119.47</td>\n      <td>2,964,108,269</td>\n      <td>114.866</td>\n      <td>125.6398</td>\n    </tr>\n    <tr>\n      <th>56</th>\n      <td>1/19/19</td>\n      <td>121.61</td>\n      <td>125.90</td>\n      <td>121.16</td>\n      <td>124.52</td>\n      <td>3,048,261,797</td>\n      <td>116.758</td>\n      <td>125.3950</td>\n    </tr>\n    <tr>\n      <th>57</th>\n      <td>1/18/19</td>\n      <td>123.65</td>\n      <td>123.84</td>\n      <td>120.24</td>\n      <td>121.01</td>\n      <td>2,305,389,800</td>\n      <td>118.200</td>\n      <td>125.0558</td>\n    </tr>\n    <tr>\n      <th>58</th>\n      <td>1/17/19</td>\n      <td>123.57</td>\n      <td>124.27</td>\n      <td>120.82</td>\n      <td>123.74</td>\n      <td>2,594,091,285</td>\n      <td>119.233</td>\n      <td>124.8280</td>\n    </tr>\n    <tr>\n      <th>59</th>\n      <td>1/16/19</td>\n      <td>121.81</td>\n      <td>127.12</td>\n      <td>121.44</td>\n      <td>123.55</td>\n      <td>2,746,469,340</td>\n      <td>119.939</td>\n      <td>124.5384</td>\n    </tr>\n    <tr>\n      <th>60</th>\n      <td>1/15/19</td>\n      <td>129.17</td>\n      <td>130.74</td>\n      <td>120.31</td>\n      <td>122.03</td>\n      <td>2,735,449,164</td>\n      <td>120.504</td>\n      <td>124.2032</td>\n    </tr>\n    <tr>\n      <th>61</th>\n      <td>1/14/19</td>\n      <td>116.98</td>\n      <td>130.86</td>\n      <td>116.97</td>\n      <td>129.07</td>\n      <td>2,798,085,735</td>\n      <td>121.675</td>\n      <td>124.0282</td>\n    </tr>\n    <tr>\n      <th>62</th>\n      <td>1/13/19</td>\n      <td>125.91</td>\n      <td>126.27</td>\n      <td>116.09</td>\n      <td>116.90</td>\n      <td>2,268,263,944</td>\n      <td>121.620</td>\n      <td>123.8108</td>\n    </tr>\n    <tr>\n      <th>63</th>\n      <td>1/12/19</td>\n      <td>127.53</td>\n      <td>128.67</td>\n      <td>125.45</td>\n      <td>125.97</td>\n      <td>2,212,109,224</td>\n      <td>122.342</td>\n      <td>123.6852</td>\n    </tr>\n    <tr>\n      <th>64</th>\n      <td>1/11/19</td>\n      <td>127.81</td>\n      <td>130.17</td>\n      <td>125.24</td>\n      <td>127.55</td>\n      <td>2,667,585,234</td>\n      <td>123.381</td>\n      <td>123.5520</td>\n    </tr>\n    <tr>\n      <th>65</th>\n      <td>1/10/19</td>\n      <td>150.84</td>\n      <td>152.15</td>\n      <td>126.53</td>\n      <td>128.63</td>\n      <td>3,397,734,456</td>\n      <td>124.297</td>\n      <td>123.3958</td>\n    </tr>\n    <tr>\n      <th>66</th>\n      <td>1/9/19</td>\n      <td>150.55</td>\n      <td>153.62</td>\n      <td>150.29</td>\n      <td>150.80</td>\n      <td>2,369,241,197</td>\n      <td>126.925</td>\n      <td>123.6768</td>\n    </tr>\n    <tr>\n      <th>67</th>\n      <td>1/8/19</td>\n      <td>151.97</td>\n      <td>153.63</td>\n      <td>148.67</td>\n      <td>150.36</td>\n      <td>2,459,808,140</td>\n      <td>129.860</td>\n      <td>123.9614</td>\n    </tr>\n    <tr>\n      <th>68</th>\n      <td>1/7/19</td>\n      <td>157.81</td>\n      <td>158.45</td>\n      <td>151.15</td>\n      <td>151.70</td>\n      <td>2,712,108,388</td>\n      <td>132.656</td>\n      <td>124.2336</td>\n    </tr>\n  </tbody>\n</table>\n</div>", 
                        "text/plain": "       Date    Open    High     Low   Close         Volume     MA10      MA50\n49  1/26/19  116.37  118.08  115.98  116.49  2,412,181,169  109.141  127.8150\n50  1/25/19  117.59  117.80  115.83  116.38  2,606,881,898  109.997  127.2946\n51  1/24/19  117.46  118.03  116.01  117.36  2,520,843,420  110.984  126.8880\n52  1/23/19  118.71  119.42  116.38  117.45  2,556,952,198  111.686  126.5628\n53  1/22/19  117.11  119.66  114.68  118.75  2,552,507,405  112.800  126.2726\n54  1/21/19  119.64  119.72  116.16  117.16  2,421,720,343  113.810  125.9270\n55  1/20/19  124.63  125.07  118.70  119.47  2,964,108,269  114.866  125.6398\n56  1/19/19  121.61  125.90  121.16  124.52  3,048,261,797  116.758  125.3950\n57  1/18/19  123.65  123.84  120.24  121.01  2,305,389,800  118.200  125.0558\n58  1/17/19  123.57  124.27  120.82  123.74  2,594,091,285  119.233  124.8280\n59  1/16/19  121.81  127.12  121.44  123.55  2,746,469,340  119.939  124.5384\n60  1/15/19  129.17  130.74  120.31  122.03  2,735,449,164  120.504  124.2032\n61  1/14/19  116.98  130.86  116.97  129.07  2,798,085,735  121.675  124.0282\n62  1/13/19  125.91  126.27  116.09  116.90  2,268,263,944  121.620  123.8108\n63  1/12/19  127.53  128.67  125.45  125.97  2,212,109,224  122.342  123.6852\n64  1/11/19  127.81  130.17  125.24  127.55  2,667,585,234  123.381  123.5520\n65  1/10/19  150.84  152.15  126.53  128.63  3,397,734,456  124.297  123.3958\n66   1/9/19  150.55  153.62  150.29  150.80  2,369,241,197  126.925  123.6768\n67   1/8/19  151.97  153.63  148.67  150.36  2,459,808,140  129.860  123.9614\n68   1/7/19  157.81  158.45  151.15  151.70  2,712,108,388  132.656  124.2336"
                    }, 
                    "output_type": "execute_result"
                }
            ], 
            "source": "df_eth.head(20)"
        }, 
        {
            "source": "### Probability price will drop over a certain percentage in one day", 
            "cell_type": "markdown", 
            "metadata": {}
        }, 
        {
            "execution_count": 12, 
            "cell_type": "code", 
            "metadata": {}, 
            "outputs": [
                {
                    "output_type": "stream", 
                    "name": "stdout", 
                    "text": "The probability is 0.1467446142\n"
                }
            ], 
            "source": "# probability that the price of ETH will drop over 5% in a day\nprob_return1 = norm.cdf(-0.05, mu, sigma)\nprint('The probability is', prob_return1)"
        }, 
        {
            "execution_count": 13, 
            "cell_type": "code", 
            "metadata": {}, 
            "outputs": [
                {
                    "output_type": "stream", 
                    "name": "stdout", 
                    "text": "The probability is 0.0224024876\n"
                }
            ], 
            "source": "# probability that the price of ETH will drop over 10% in a day\nprob_return2 = norm.cdf(-0.10, mu, sigma)\nprint('The probability is', prob_return2)"
        }, 
        {
            "source": "### Probability price drop over a certain percentage over time", 
            "cell_type": "markdown", 
            "metadata": {}
        }, 
        {
            "execution_count": 14, 
            "cell_type": "code", 
            "metadata": {}, 
            "outputs": [
                {
                    "output_type": "stream", 
                    "name": "stdout", 
                    "text": "The probability of dropping over 10% in 7 days is 0.165346588526\n"
                }
            ], 
            "source": "# drop over 10% in 7 days\nmu7 = 7*mu\nsigma7 = (7**0.5) * sigma\ndrop7 = norm.cdf(-0.1, mu7, sigma7)\nprint('The probability of dropping over 10% in 7 days is', drop7)"
        }, 
        {
            "execution_count": 15, 
            "cell_type": "code", 
            "metadata": {}, 
            "outputs": [
                {
                    "output_type": "stream", 
                    "name": "stdout", 
                    "text": "The probability of dropping over 20% in 7 days is 0.0450022755696\n"
                }
            ], 
            "source": "# drop over 20% in 7 days\nmu7 = 7*mu\nsigma7 = (7**0.5) * sigma\ndrop7 = norm.cdf(-0.2, mu7, sigma7)\nprint('The probability of dropping over 20% in 7 days is', drop7)"
        }, 
        {
            "execution_count": 16, 
            "cell_type": "code", 
            "metadata": {}, 
            "outputs": [
                {
                    "output_type": "stream", 
                    "name": "stdout", 
                    "text": "The probability of dropping over 10% in 14 days is 0.193618886744\n"
                }
            ], 
            "source": "# drop over 10% in 14 days\nmu14 = 14*mu\nsigma14 = (14**0.5) * sigma\ndrop14 = norm.cdf(-0.1, mu14, sigma14)\nprint('The probability of dropping over 10% in 14 days is', drop14)"
        }, 
        {
            "execution_count": 17, 
            "cell_type": "code", 
            "metadata": {}, 
            "outputs": [
                {
                    "output_type": "stream", 
                    "name": "stdout", 
                    "text": "The probability of dropping over 20% in 30 days is 0.112024503892\n"
                }
            ], 
            "source": "# drop over 20% in 30 days\nmu30 = 30*mu\nsigma30 = (30**0.5) * sigma\ndrop20 = norm.cdf(-0.2, mu30, sigma30)\nprint('The probability of dropping over 20% in 30 days is', drop20)"
        }, 
        {
            "execution_count": 18, 
            "cell_type": "code", 
            "metadata": {}, 
            "outputs": [
                {
                    "output_type": "stream", 
                    "name": "stdout", 
                    "text": "The probability of dropping over 30% in 30 days is 0.058802315992\n"
                }
            ], 
            "source": "# drop over 30% in 30 days\nmu30 = 30*mu\nsigma30 = (30**0.5) * sigma\ndrop30 = norm.cdf(-0.3, mu30, sigma30)\nprint('The probability of dropping over 30% in 30 days is', drop30)"
        }, 
        {
            "execution_count": 19, 
            "cell_type": "code", 
            "metadata": {}, 
            "outputs": [
                {
                    "output_type": "stream", 
                    "name": "stdout", 
                    "text": "The probability of dropping over 20% in 220 days is 0.048487895305\n"
                }
            ], 
            "source": "# drop over 20% in 220 days\nmu220 = 220*mu\nsigma220 = (220**0.5) * sigma\ndrop20 = norm.cdf(-0.2, mu220, sigma220)\nprint('The probability of dropping over 20% in 220 days is', drop20)"
        }, 
        {
            "execution_count": 20, 
            "cell_type": "code", 
            "metadata": {}, 
            "outputs": [
                {
                    "output_type": "stream", 
                    "name": "stdout", 
                    "text": "The probability of dropping over 40% in 220 days is 0.0275869301987\n"
                }
            ], 
            "source": "# drop over 40% in 220 days\nmu220 = 220*mu\nsigma220 = (220**0.5) * sigma\ndrop40 = norm.cdf(-0.4, mu220, sigma220)\nprint('The probability of dropping over 40% in 220 days is', drop40)"
        }, 
        {
            "source": "### For education purposes only. This information is not financial advice.", 
            "cell_type": "markdown", 
            "metadata": {}
        }
    ], 
    "metadata": {
        "kernelspec": {
            "display_name": "Python 3.5", 
            "name": "python3", 
            "language": "python"
        }, 
        "language_info": {
            "mimetype": "text/x-python", 
            "nbconvert_exporter": "python", 
            "version": "3.5.5", 
            "name": "python", 
            "file_extension": ".py", 
            "pygments_lexer": "ipython3", 
            "codemirror_mode": {
                "version": 3, 
                "name": "ipython"
            }
        }
    }, 
    "nbformat": 4
}