{
    "nbformat_minor": 1, 
    "cells": [
        {
            "source": "### Analysis of XLM Based On Previous 365 Days of Trading Data", 
            "cell_type": "markdown", 
            "metadata": {}
        }, 
        {
            "execution_count": 3, 
            "cell_type": "code", 
            "metadata": {}, 
            "outputs": [
                {
                    "execution_count": 3, 
                    "metadata": {}, 
                    "data": {
                        "text/plain": "(365, 6)"
                    }, 
                    "output_type": "execute_result"
                }
            ], 
            "source": "df_xlm.shape"
        }, 
        {
            "execution_count": 4, 
            "cell_type": "code", 
            "metadata": {}, 
            "outputs": [
                {
                    "execution_count": 4, 
                    "metadata": {}, 
                    "data": {
                        "text/html": "<div>\n<style scoped>\n    .dataframe tbody tr th:only-of-type {\n        vertical-align: middle;\n    }\n\n    .dataframe tbody tr th {\n        vertical-align: top;\n    }\n\n    .dataframe thead th {\n        text-align: right;\n    }\n</style>\n<table border=\"1\" class=\"dataframe\">\n  <thead>\n    <tr style=\"text-align: right;\">\n      <th></th>\n      <th>Date</th>\n      <th>Open</th>\n      <th>High</th>\n      <th>Low</th>\n      <th>Close</th>\n      <th>Volume</th>\n    </tr>\n  </thead>\n  <tbody>\n    <tr>\n      <th>0</th>\n      <td>3/19/19</td>\n      <td>0.116198</td>\n      <td>0.117840</td>\n      <td>0.112673</td>\n      <td>0.113248</td>\n      <td>263,893,228</td>\n    </tr>\n    <tr>\n      <th>1</th>\n      <td>3/18/19</td>\n      <td>0.109486</td>\n      <td>0.118035</td>\n      <td>0.108358</td>\n      <td>0.115914</td>\n      <td>234,881,352</td>\n    </tr>\n    <tr>\n      <th>2</th>\n      <td>3/17/19</td>\n      <td>0.109584</td>\n      <td>0.109691</td>\n      <td>0.108163</td>\n      <td>0.109385</td>\n      <td>149,591,732</td>\n    </tr>\n    <tr>\n      <th>3</th>\n      <td>3/16/19</td>\n      <td>0.107836</td>\n      <td>0.110904</td>\n      <td>0.107662</td>\n      <td>0.109619</td>\n      <td>146,002,756</td>\n    </tr>\n    <tr>\n      <th>4</th>\n      <td>3/15/19</td>\n      <td>0.107210</td>\n      <td>0.108453</td>\n      <td>0.105109</td>\n      <td>0.107773</td>\n      <td>128,011,254</td>\n    </tr>\n    <tr>\n      <th>5</th>\n      <td>3/14/19</td>\n      <td>0.108103</td>\n      <td>0.111709</td>\n      <td>0.106917</td>\n      <td>0.107272</td>\n      <td>167,089,004</td>\n    </tr>\n    <tr>\n      <th>6</th>\n      <td>3/13/19</td>\n      <td>0.104512</td>\n      <td>0.109546</td>\n      <td>0.102105</td>\n      <td>0.108199</td>\n      <td>158,665,263</td>\n    </tr>\n    <tr>\n      <th>7</th>\n      <td>3/12/19</td>\n      <td>0.102322</td>\n      <td>0.106382</td>\n      <td>0.097573</td>\n      <td>0.104598</td>\n      <td>155,318,737</td>\n    </tr>\n    <tr>\n      <th>8</th>\n      <td>3/11/19</td>\n      <td>0.099865</td>\n      <td>0.107836</td>\n      <td>0.099180</td>\n      <td>0.102263</td>\n      <td>233,084,341</td>\n    </tr>\n    <tr>\n      <th>9</th>\n      <td>3/10/19</td>\n      <td>0.090055</td>\n      <td>0.101571</td>\n      <td>0.089516</td>\n      <td>0.100039</td>\n      <td>206,273,829</td>\n    </tr>\n    <tr>\n      <th>10</th>\n      <td>3/9/19</td>\n      <td>0.087038</td>\n      <td>0.090924</td>\n      <td>0.086833</td>\n      <td>0.089744</td>\n      <td>138,039,148</td>\n    </tr>\n    <tr>\n      <th>11</th>\n      <td>3/8/19</td>\n      <td>0.085608</td>\n      <td>0.089432</td>\n      <td>0.085384</td>\n      <td>0.087246</td>\n      <td>142,744,836</td>\n    </tr>\n    <tr>\n      <th>12</th>\n      <td>3/7/19</td>\n      <td>0.085534</td>\n      <td>0.086223</td>\n      <td>0.084875</td>\n      <td>0.085541</td>\n      <td>121,504,120</td>\n    </tr>\n    <tr>\n      <th>13</th>\n      <td>3/6/19</td>\n      <td>0.086338</td>\n      <td>0.086610</td>\n      <td>0.084501</td>\n      <td>0.085566</td>\n      <td>139,934,665</td>\n    </tr>\n    <tr>\n      <th>14</th>\n      <td>3/5/19</td>\n      <td>0.083504</td>\n      <td>0.086622</td>\n      <td>0.082984</td>\n      <td>0.086299</td>\n      <td>162,905,354</td>\n    </tr>\n    <tr>\n      <th>15</th>\n      <td>3/4/19</td>\n      <td>0.086924</td>\n      <td>0.087056</td>\n      <td>0.081728</td>\n      <td>0.083539</td>\n      <td>133,895,180</td>\n    </tr>\n    <tr>\n      <th>16</th>\n      <td>3/3/19</td>\n      <td>0.084303</td>\n      <td>0.088583</td>\n      <td>0.083437</td>\n      <td>0.087235</td>\n      <td>121,355,279</td>\n    </tr>\n    <tr>\n      <th>17</th>\n      <td>3/2/19</td>\n      <td>0.085858</td>\n      <td>0.086745</td>\n      <td>0.083573</td>\n      <td>0.084460</td>\n      <td>103,522,009</td>\n    </tr>\n    <tr>\n      <th>18</th>\n      <td>3/1/19</td>\n      <td>0.085505</td>\n      <td>0.087677</td>\n      <td>0.084665</td>\n      <td>0.085833</td>\n      <td>115,886,661</td>\n    </tr>\n    <tr>\n      <th>19</th>\n      <td>2/28/19</td>\n      <td>0.086014</td>\n      <td>0.086491</td>\n      <td>0.084702</td>\n      <td>0.085503</td>\n      <td>112,773,498</td>\n    </tr>\n    <tr>\n      <th>20</th>\n      <td>2/27/19</td>\n      <td>0.086928</td>\n      <td>0.087520</td>\n      <td>0.084697</td>\n      <td>0.086195</td>\n      <td>116,962,261</td>\n    </tr>\n  </tbody>\n</table>\n</div>", 
                        "text/plain": "       Date      Open      High       Low     Close       Volume\n0   3/19/19  0.116198  0.117840  0.112673  0.113248  263,893,228\n1   3/18/19  0.109486  0.118035  0.108358  0.115914  234,881,352\n2   3/17/19  0.109584  0.109691  0.108163  0.109385  149,591,732\n3   3/16/19  0.107836  0.110904  0.107662  0.109619  146,002,756\n4   3/15/19  0.107210  0.108453  0.105109  0.107773  128,011,254\n5   3/14/19  0.108103  0.111709  0.106917  0.107272  167,089,004\n6   3/13/19  0.104512  0.109546  0.102105  0.108199  158,665,263\n7   3/12/19  0.102322  0.106382  0.097573  0.104598  155,318,737\n8   3/11/19  0.099865  0.107836  0.099180  0.102263  233,084,341\n9   3/10/19  0.090055  0.101571  0.089516  0.100039  206,273,829\n10   3/9/19  0.087038  0.090924  0.086833  0.089744  138,039,148\n11   3/8/19  0.085608  0.089432  0.085384  0.087246  142,744,836\n12   3/7/19  0.085534  0.086223  0.084875  0.085541  121,504,120\n13   3/6/19  0.086338  0.086610  0.084501  0.085566  139,934,665\n14   3/5/19  0.083504  0.086622  0.082984  0.086299  162,905,354\n15   3/4/19  0.086924  0.087056  0.081728  0.083539  133,895,180\n16   3/3/19  0.084303  0.088583  0.083437  0.087235  121,355,279\n17   3/2/19  0.085858  0.086745  0.083573  0.084460  103,522,009\n18   3/1/19  0.085505  0.087677  0.084665  0.085833  115,886,661\n19  2/28/19  0.086014  0.086491  0.084702  0.085503  112,773,498\n20  2/27/19  0.086928  0.087520  0.084697  0.086195  116,962,261"
                    }, 
                    "output_type": "execute_result"
                }
            ], 
            "source": "df_xlm.head(21)"
        }, 
        {
            "execution_count": 6, 
            "cell_type": "code", 
            "metadata": {}, 
            "outputs": [
                {
                    "execution_count": 6, 
                    "metadata": {}, 
                    "data": {
                        "text/html": "<div>\n<style scoped>\n    .dataframe tbody tr th:only-of-type {\n        vertical-align: middle;\n    }\n\n    .dataframe tbody tr th {\n        vertical-align: top;\n    }\n\n    .dataframe thead th {\n        text-align: right;\n    }\n</style>\n<table border=\"1\" class=\"dataframe\">\n  <thead>\n    <tr style=\"text-align: right;\">\n      <th></th>\n      <th>Date</th>\n      <th>Open</th>\n      <th>High</th>\n      <th>Low</th>\n      <th>Close</th>\n      <th>Volume</th>\n      <th>MA10</th>\n      <th>MA50</th>\n    </tr>\n  </thead>\n  <tbody>\n    <tr>\n      <th>49</th>\n      <td>1/29/19</td>\n      <td>0.088323</td>\n      <td>0.088323</td>\n      <td>0.082705</td>\n      <td>0.083923</td>\n      <td>155,745,244</td>\n      <td>0.080689</td>\n      <td>0.088374</td>\n    </tr>\n    <tr>\n      <th>50</th>\n      <td>1/28/19</td>\n      <td>0.096387</td>\n      <td>0.096543</td>\n      <td>0.086067</td>\n      <td>0.087904</td>\n      <td>135,847,055</td>\n      <td>0.082011</td>\n      <td>0.087867</td>\n    </tr>\n    <tr>\n      <th>51</th>\n      <td>1/27/19</td>\n      <td>0.099888</td>\n      <td>0.100352</td>\n      <td>0.095465</td>\n      <td>0.096316</td>\n      <td>134,988,476</td>\n      <td>0.084204</td>\n      <td>0.087475</td>\n    </tr>\n    <tr>\n      <th>52</th>\n      <td>1/26/19</td>\n      <td>0.101689</td>\n      <td>0.104441</td>\n      <td>0.098994</td>\n      <td>0.100014</td>\n      <td>142,586,255</td>\n      <td>0.086417</td>\n      <td>0.087288</td>\n    </tr>\n    <tr>\n      <th>53</th>\n      <td>1/25/19</td>\n      <td>0.101969</td>\n      <td>0.101969</td>\n      <td>0.100190</td>\n      <td>0.101741</td>\n      <td>102,773,915</td>\n      <td>0.088618</td>\n      <td>0.087130</td>\n    </tr>\n    <tr>\n      <th>54</th>\n      <td>1/24/19</td>\n      <td>0.102370</td>\n      <td>0.102665</td>\n      <td>0.101222</td>\n      <td>0.102210</td>\n      <td>109,073,513</td>\n      <td>0.090704</td>\n      <td>0.087019</td>\n    </tr>\n    <tr>\n      <th>55</th>\n      <td>1/23/19</td>\n      <td>0.104134</td>\n      <td>0.104349</td>\n      <td>0.101584</td>\n      <td>0.102576</td>\n      <td>97,605,045</td>\n      <td>0.092653</td>\n      <td>0.086925</td>\n    </tr>\n    <tr>\n      <th>56</th>\n      <td>1/22/19</td>\n      <td>0.103650</td>\n      <td>0.104986</td>\n      <td>0.101690</td>\n      <td>0.104103</td>\n      <td>129,057,418</td>\n      <td>0.094705</td>\n      <td>0.086843</td>\n    </tr>\n    <tr>\n      <th>57</th>\n      <td>1/21/19</td>\n      <td>0.104683</td>\n      <td>0.104856</td>\n      <td>0.102676</td>\n      <td>0.103380</td>\n      <td>111,143,574</td>\n      <td>0.096780</td>\n      <td>0.086819</td>\n    </tr>\n    <tr>\n      <th>58</th>\n      <td>1/20/19</td>\n      <td>0.108195</td>\n      <td>0.108906</td>\n      <td>0.103944</td>\n      <td>0.104702</td>\n      <td>123,424,390</td>\n      <td>0.098687</td>\n      <td>0.086867</td>\n    </tr>\n    <tr>\n      <th>59</th>\n      <td>1/19/19</td>\n      <td>0.106863</td>\n      <td>0.110063</td>\n      <td>0.106707</td>\n      <td>0.108304</td>\n      <td>111,942,030</td>\n      <td>0.101125</td>\n      <td>0.087033</td>\n    </tr>\n    <tr>\n      <th>60</th>\n      <td>1/18/19</td>\n      <td>0.108312</td>\n      <td>0.108937</td>\n      <td>0.105802</td>\n      <td>0.106821</td>\n      <td>84,272,978</td>\n      <td>0.103017</td>\n      <td>0.087374</td>\n    </tr>\n    <tr>\n      <th>61</th>\n      <td>1/17/19</td>\n      <td>0.106708</td>\n      <td>0.108856</td>\n      <td>0.105667</td>\n      <td>0.108461</td>\n      <td>110,024,544</td>\n      <td>0.104231</td>\n      <td>0.087798</td>\n    </tr>\n    <tr>\n      <th>62</th>\n      <td>1/16/19</td>\n      <td>0.105837</td>\n      <td>0.108060</td>\n      <td>0.105679</td>\n      <td>0.106891</td>\n      <td>92,258,083</td>\n      <td>0.104919</td>\n      <td>0.088225</td>\n    </tr>\n    <tr>\n      <th>63</th>\n      <td>1/15/19</td>\n      <td>0.109422</td>\n      <td>0.109954</td>\n      <td>0.105427</td>\n      <td>0.105685</td>\n      <td>89,555,967</td>\n      <td>0.105313</td>\n      <td>0.088628</td>\n    </tr>\n    <tr>\n      <th>64</th>\n      <td>1/14/19</td>\n      <td>0.103649</td>\n      <td>0.110128</td>\n      <td>0.103649</td>\n      <td>0.109649</td>\n      <td>110,842,789</td>\n      <td>0.106057</td>\n      <td>0.089095</td>\n    </tr>\n    <tr>\n      <th>65</th>\n      <td>1/13/19</td>\n      <td>0.106758</td>\n      <td>0.111775</td>\n      <td>0.103231</td>\n      <td>0.103609</td>\n      <td>119,389,904</td>\n      <td>0.106160</td>\n      <td>0.089496</td>\n    </tr>\n    <tr>\n      <th>66</th>\n      <td>1/12/19</td>\n      <td>0.107269</td>\n      <td>0.107752</td>\n      <td>0.105778</td>\n      <td>0.106764</td>\n      <td>103,509,557</td>\n      <td>0.106427</td>\n      <td>0.089887</td>\n    </tr>\n    <tr>\n      <th>67</th>\n      <td>1/11/19</td>\n      <td>0.108776</td>\n      <td>0.111904</td>\n      <td>0.106211</td>\n      <td>0.107332</td>\n      <td>102,731,220</td>\n      <td>0.106822</td>\n      <td>0.090344</td>\n    </tr>\n    <tr>\n      <th>68</th>\n      <td>1/10/19</td>\n      <td>0.123830</td>\n      <td>0.128394</td>\n      <td>0.107248</td>\n      <td>0.109879</td>\n      <td>128,623,288</td>\n      <td>0.107339</td>\n      <td>0.090825</td>\n    </tr>\n  </tbody>\n</table>\n</div>", 
                        "text/plain": "       Date      Open      High       Low     Close       Volume      MA10  \\\n49  1/29/19  0.088323  0.088323  0.082705  0.083923  155,745,244  0.080689   \n50  1/28/19  0.096387  0.096543  0.086067  0.087904  135,847,055  0.082011   \n51  1/27/19  0.099888  0.100352  0.095465  0.096316  134,988,476  0.084204   \n52  1/26/19  0.101689  0.104441  0.098994  0.100014  142,586,255  0.086417   \n53  1/25/19  0.101969  0.101969  0.100190  0.101741  102,773,915  0.088618   \n54  1/24/19  0.102370  0.102665  0.101222  0.102210  109,073,513  0.090704   \n55  1/23/19  0.104134  0.104349  0.101584  0.102576   97,605,045  0.092653   \n56  1/22/19  0.103650  0.104986  0.101690  0.104103  129,057,418  0.094705   \n57  1/21/19  0.104683  0.104856  0.102676  0.103380  111,143,574  0.096780   \n58  1/20/19  0.108195  0.108906  0.103944  0.104702  123,424,390  0.098687   \n59  1/19/19  0.106863  0.110063  0.106707  0.108304  111,942,030  0.101125   \n60  1/18/19  0.108312  0.108937  0.105802  0.106821   84,272,978  0.103017   \n61  1/17/19  0.106708  0.108856  0.105667  0.108461  110,024,544  0.104231   \n62  1/16/19  0.105837  0.108060  0.105679  0.106891   92,258,083  0.104919   \n63  1/15/19  0.109422  0.109954  0.105427  0.105685   89,555,967  0.105313   \n64  1/14/19  0.103649  0.110128  0.103649  0.109649  110,842,789  0.106057   \n65  1/13/19  0.106758  0.111775  0.103231  0.103609  119,389,904  0.106160   \n66  1/12/19  0.107269  0.107752  0.105778  0.106764  103,509,557  0.106427   \n67  1/11/19  0.108776  0.111904  0.106211  0.107332  102,731,220  0.106822   \n68  1/10/19  0.123830  0.128394  0.107248  0.109879  128,623,288  0.107339   \n\n        MA50  \n49  0.088374  \n50  0.087867  \n51  0.087475  \n52  0.087288  \n53  0.087130  \n54  0.087019  \n55  0.086925  \n56  0.086843  \n57  0.086819  \n58  0.086867  \n59  0.087033  \n60  0.087374  \n61  0.087798  \n62  0.088225  \n63  0.088628  \n64  0.089095  \n65  0.089496  \n66  0.089887  \n67  0.090344  \n68  0.090825  "
                    }, 
                    "output_type": "execute_result"
                }
            ], 
            "source": "df_xlm.head(20)"
        }, 
        {
            "source": "### Probability price will drop over a certain percentage in one day", 
            "cell_type": "markdown", 
            "metadata": {}
        }, 
        {
            "execution_count": 14, 
            "cell_type": "code", 
            "metadata": {}, 
            "outputs": [
                {
                    "output_type": "stream", 
                    "name": "stdout", 
                    "text": "The probability is 0.167587868281\n"
                }
            ], 
            "source": "# probability that the price of xrp will drop over 5% in a day\nprob_return1 = norm.cdf(-0.05, mu, sigma)\nprint('The probability is', prob_return1)"
        }, 
        {
            "execution_count": 15, 
            "cell_type": "code", 
            "metadata": {}, 
            "outputs": [
                {
                    "output_type": "stream", 
                    "name": "stdout", 
                    "text": "The probability is 0.0313495218374\n"
                }
            ], 
            "source": "# probability that the price of xrp will drop over 10% in a day\nprob_return2 = norm.cdf(-0.10, mu, sigma)\nprint('The probability is', prob_return2)"
        }, 
        {
            "source": "### Probability price will drop over a certain percentage over time", 
            "cell_type": "markdown", 
            "metadata": {}
        }, 
        {
            "execution_count": 16, 
            "cell_type": "code", 
            "metadata": {}, 
            "outputs": [
                {
                    "output_type": "stream", 
                    "name": "stdout", 
                    "text": "The probability of dropping over 10% in 7 days is 0.196675734863\n"
                }
            ], 
            "source": "# drop over 10% in 7 days\nmu7 = 7*mu\nsigma7 = (7**0.5) * sigma\ndrop10 = norm.cdf(-0.1, mu7, sigma7)\nprint('The probability of dropping over 10% in 7 days is', drop10)"
        }, 
        {
            "execution_count": 17, 
            "cell_type": "code", 
            "metadata": {}, 
            "outputs": [
                {
                    "output_type": "stream", 
                    "name": "stdout", 
                    "text": "The probability of dropping over 20% in 7 days is 0.0627537076344\n"
                }
            ], 
            "source": "# drop over 20% in 7 days\nmu7 = 7*mu\nsigma7 = (7**0.5) * sigma\ndrop20 = norm.cdf(-0.2, mu7, sigma7)\nprint('The probability of dropping over 20% in 7 days is', drop20)"
        }, 
        {
            "execution_count": 18, 
            "cell_type": "code", 
            "metadata": {}, 
            "outputs": [
                {
                    "output_type": "stream", 
                    "name": "stdout", 
                    "text": "The probability of dropping over 10% in 14 days is 0.233510852791\n"
                }
            ], 
            "source": "# drop over 10% in 14 days\nmu14 = 14*mu\nsigma14 = (14**0.5) * sigma\ndrop10 = norm.cdf(-0.1, mu14, sigma14)\nprint('The probability of dropping over 10% in 14 days is', drop10)"
        }, 
        {
            "execution_count": 19, 
            "cell_type": "code", 
            "metadata": {}, 
            "outputs": [
                {
                    "output_type": "stream", 
                    "name": "stdout", 
                    "text": "The probability of dropping over 20% in 30 days is 0.154366108649\n"
                }
            ], 
            "source": "# drop over 20% in 30 days\nmu30 = 30*mu\nsigma30 = (30**0.5) * sigma\ndrop20 = norm.cdf(-0.2, mu30, sigma30)\nprint('The probability of dropping over 20% in 30 days is', drop20)"
        }, 
        {
            "execution_count": 20, 
            "cell_type": "code", 
            "metadata": {}, 
            "outputs": [
                {
                    "output_type": "stream", 
                    "name": "stdout", 
                    "text": "The probability of dropping over 30% in 30 days is 0.0892100992661\n"
                }
            ], 
            "source": "# drop over 30% in 30 days\nmu30 = 30*mu\nsigma30 = (30**0.5) * sigma\ndrop30 = norm.cdf(-0.3, mu30, sigma30)\nprint('The probability of dropping over 30% in 30 days is', drop30)"
        }, 
        {
            "execution_count": 21, 
            "cell_type": "code", 
            "metadata": {}, 
            "outputs": [
                {
                    "output_type": "stream", 
                    "name": "stdout", 
                    "text": "The probability of dropping over 20% in 220 days is 0.110587838279\n"
                }
            ], 
            "source": "# drop over 20% in 220 days\nmu220 = 220*mu\nsigma220 = (220**0.5) * sigma\ndrop20 = norm.cdf(-0.2, mu220, sigma220)\nprint('The probability of dropping over 20% in 220 days is', drop20)"
        }, 
        {
            "execution_count": 22, 
            "cell_type": "code", 
            "metadata": {}, 
            "outputs": [
                {
                    "output_type": "stream", 
                    "name": "stdout", 
                    "text": "The probability of dropping over 40% in 220 days is 0.0713967982034\n"
                }
            ], 
            "source": "# drop over 40% in 220 days\nmu220 = 220*mu\nsigma220 = (220**0.5) * sigma\ndrop40 = norm.cdf(-0.4, mu220, sigma220)\nprint('The probability of dropping over 40% in 220 days is', drop40)"
        }, 
        {
            "source": "### For education purposes only. This information is not financial advice.", 
            "cell_type": "markdown", 
            "metadata": {}
        }
    ], 
    "metadata": {
        "kernelspec": {
            "display_name": "Python 3.5", 
            "name": "python3", 
            "language": "python"
        }, 
        "language_info": {
            "mimetype": "text/x-python", 
            "nbconvert_exporter": "python", 
            "version": "3.5.5", 
            "name": "python", 
            "file_extension": ".py", 
            "pygments_lexer": "ipython3", 
            "codemirror_mode": {
                "version": 3, 
                "name": "ipython"
            }
        }
    }, 
    "nbformat": 4
}