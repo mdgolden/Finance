{
    "nbformat_minor": 1, 
    "cells": [
        {
            "source": "### Analysis for XRP based on last 365 days of trading data.", 
            "cell_type": "markdown", 
            "metadata": {}
        }, 
        {
            "execution_count": 58, 
            "cell_type": "code", 
            "metadata": {}, 
            "outputs": [
                {
                    "execution_count": 58, 
                    "metadata": {}, 
                    "data": {
                        "text/html": "<div>\n<style scoped>\n    .dataframe tbody tr th:only-of-type {\n        vertical-align: middle;\n    }\n\n    .dataframe tbody tr th {\n        vertical-align: top;\n    }\n\n    .dataframe thead th {\n        text-align: right;\n    }\n</style>\n<table border=\"1\" class=\"dataframe\">\n  <thead>\n    <tr style=\"text-align: right;\">\n      <th></th>\n      <th>Date</th>\n      <th>Open</th>\n      <th>High</th>\n      <th>Low</th>\n      <th>Close</th>\n      <th>Volume</th>\n    </tr>\n  </thead>\n  <tbody>\n    <tr>\n      <th>0</th>\n      <td>3/16/19</td>\n      <td>0.315066</td>\n      <td>0.322413</td>\n      <td>0.314838</td>\n      <td>0.320468</td>\n      <td>759,396,360</td>\n    </tr>\n    <tr>\n      <th>1</th>\n      <td>3/15/19</td>\n      <td>0.312733</td>\n      <td>0.316065</td>\n      <td>0.311575</td>\n      <td>0.315052</td>\n      <td>636,037,517</td>\n    </tr>\n    <tr>\n      <th>2</th>\n      <td>3/14/19</td>\n      <td>0.313870</td>\n      <td>0.316362</td>\n      <td>0.311307</td>\n      <td>0.312955</td>\n      <td>706,966,032</td>\n    </tr>\n    <tr>\n      <th>3</th>\n      <td>3/13/19</td>\n      <td>0.310611</td>\n      <td>0.320114</td>\n      <td>0.308660</td>\n      <td>0.314098</td>\n      <td>827,163,024</td>\n    </tr>\n    <tr>\n      <th>4</th>\n      <td>3/12/19</td>\n      <td>0.311138</td>\n      <td>0.311773</td>\n      <td>0.307536</td>\n      <td>0.310201</td>\n      <td>581,106,367</td>\n    </tr>\n    <tr>\n      <th>5</th>\n      <td>3/11/19</td>\n      <td>0.313175</td>\n      <td>0.314576</td>\n      <td>0.309417</td>\n      <td>0.311065</td>\n      <td>671,951,311</td>\n    </tr>\n    <tr>\n      <th>6</th>\n      <td>3/10/19</td>\n      <td>0.314266</td>\n      <td>0.315795</td>\n      <td>0.311095</td>\n      <td>0.313107</td>\n      <td>620,043,949</td>\n    </tr>\n    <tr>\n      <th>7</th>\n      <td>3/9/19</td>\n      <td>0.309751</td>\n      <td>0.317748</td>\n      <td>0.309367</td>\n      <td>0.313826</td>\n      <td>763,946,051</td>\n    </tr>\n    <tr>\n      <th>8</th>\n      <td>3/8/19</td>\n      <td>0.315044</td>\n      <td>0.316385</td>\n      <td>0.308828</td>\n      <td>0.310087</td>\n      <td>680,461,375</td>\n    </tr>\n    <tr>\n      <th>9</th>\n      <td>3/7/19</td>\n      <td>0.317192</td>\n      <td>0.319898</td>\n      <td>0.314548</td>\n      <td>0.314766</td>\n      <td>716,447,226</td>\n    </tr>\n    <tr>\n      <th>10</th>\n      <td>3/6/19</td>\n      <td>0.316674</td>\n      <td>0.320833</td>\n      <td>0.311987</td>\n      <td>0.317031</td>\n      <td>750,399,371</td>\n    </tr>\n    <tr>\n      <th>11</th>\n      <td>3/5/19</td>\n      <td>0.305095</td>\n      <td>0.317879</td>\n      <td>0.304082</td>\n      <td>0.316507</td>\n      <td>786,832,982</td>\n    </tr>\n    <tr>\n      <th>12</th>\n      <td>3/4/19</td>\n      <td>0.312021</td>\n      <td>0.313120</td>\n      <td>0.302677</td>\n      <td>0.305133</td>\n      <td>647,905,632</td>\n    </tr>\n    <tr>\n      <th>13</th>\n      <td>3/3/19</td>\n      <td>0.314857</td>\n      <td>0.316500</td>\n      <td>0.310925</td>\n      <td>0.312554</td>\n      <td>548,503,372</td>\n    </tr>\n    <tr>\n      <th>14</th>\n      <td>3/2/19</td>\n      <td>0.316911</td>\n      <td>0.319301</td>\n      <td>0.312747</td>\n      <td>0.315126</td>\n      <td>604,560,086</td>\n    </tr>\n    <tr>\n      <th>15</th>\n      <td>3/1/19</td>\n      <td>0.315066</td>\n      <td>0.323946</td>\n      <td>0.313620</td>\n      <td>0.317312</td>\n      <td>752,723,591</td>\n    </tr>\n    <tr>\n      <th>16</th>\n      <td>2/28/19</td>\n      <td>0.313115</td>\n      <td>0.317004</td>\n      <td>0.311435</td>\n      <td>0.315078</td>\n      <td>734,041,245</td>\n    </tr>\n    <tr>\n      <th>17</th>\n      <td>2/27/19</td>\n      <td>0.319677</td>\n      <td>0.322419</td>\n      <td>0.308662</td>\n      <td>0.313106</td>\n      <td>716,326,029</td>\n    </tr>\n    <tr>\n      <th>18</th>\n      <td>2/26/19</td>\n      <td>0.327779</td>\n      <td>0.334310</td>\n      <td>0.316865</td>\n      <td>0.319477</td>\n      <td>881,257,178</td>\n    </tr>\n    <tr>\n      <th>19</th>\n      <td>2/25/19</td>\n      <td>0.300708</td>\n      <td>0.337855</td>\n      <td>0.300708</td>\n      <td>0.328510</td>\n      <td>1,060,838,440</td>\n    </tr>\n    <tr>\n      <th>20</th>\n      <td>2/24/19</td>\n      <td>0.332942</td>\n      <td>0.341581</td>\n      <td>0.299331</td>\n      <td>0.301443</td>\n      <td>1,117,884,486</td>\n    </tr>\n  </tbody>\n</table>\n</div>", 
                        "text/plain": "       Date      Open      High       Low     Close         Volume\n0   3/16/19  0.315066  0.322413  0.314838  0.320468    759,396,360\n1   3/15/19  0.312733  0.316065  0.311575  0.315052    636,037,517\n2   3/14/19  0.313870  0.316362  0.311307  0.312955    706,966,032\n3   3/13/19  0.310611  0.320114  0.308660  0.314098    827,163,024\n4   3/12/19  0.311138  0.311773  0.307536  0.310201    581,106,367\n5   3/11/19  0.313175  0.314576  0.309417  0.311065    671,951,311\n6   3/10/19  0.314266  0.315795  0.311095  0.313107    620,043,949\n7    3/9/19  0.309751  0.317748  0.309367  0.313826    763,946,051\n8    3/8/19  0.315044  0.316385  0.308828  0.310087    680,461,375\n9    3/7/19  0.317192  0.319898  0.314548  0.314766    716,447,226\n10   3/6/19  0.316674  0.320833  0.311987  0.317031    750,399,371\n11   3/5/19  0.305095  0.317879  0.304082  0.316507    786,832,982\n12   3/4/19  0.312021  0.313120  0.302677  0.305133    647,905,632\n13   3/3/19  0.314857  0.316500  0.310925  0.312554    548,503,372\n14   3/2/19  0.316911  0.319301  0.312747  0.315126    604,560,086\n15   3/1/19  0.315066  0.323946  0.313620  0.317312    752,723,591\n16  2/28/19  0.313115  0.317004  0.311435  0.315078    734,041,245\n17  2/27/19  0.319677  0.322419  0.308662  0.313106    716,326,029\n18  2/26/19  0.327779  0.334310  0.316865  0.319477    881,257,178\n19  2/25/19  0.300708  0.337855  0.300708  0.328510  1,060,838,440\n20  2/24/19  0.332942  0.341581  0.299331  0.301443  1,117,884,486"
                    }, 
                    "output_type": "execute_result"
                }
            ], 
            "source": "df_data_1.head(21)"
        }, 
        {
            "execution_count": 29, 
            "cell_type": "code", 
            "metadata": {}, 
            "outputs": [
                {
                    "execution_count": 29, 
                    "metadata": {}, 
                    "data": {
                        "text/html": "<div>\n<style scoped>\n    .dataframe tbody tr th:only-of-type {\n        vertical-align: middle;\n    }\n\n    .dataframe tbody tr th {\n        vertical-align: top;\n    }\n\n    .dataframe thead th {\n        text-align: right;\n    }\n</style>\n<table border=\"1\" class=\"dataframe\">\n  <thead>\n    <tr style=\"text-align: right;\">\n      <th></th>\n      <th>Date</th>\n      <th>Open</th>\n      <th>High</th>\n      <th>Low</th>\n      <th>Close</th>\n      <th>Volume</th>\n      <th>MA10</th>\n      <th>MA50</th>\n    </tr>\n  </thead>\n  <tbody>\n    <tr>\n      <th>49</th>\n      <td>1/26/19</td>\n      <td>0.317260</td>\n      <td>0.319326</td>\n      <td>0.314235</td>\n      <td>0.314235</td>\n      <td>346,413,648</td>\n      <td>0.306057</td>\n      <td>0.310938</td>\n    </tr>\n    <tr>\n      <th>50</th>\n      <td>1/25/19</td>\n      <td>0.317859</td>\n      <td>0.319069</td>\n      <td>0.313824</td>\n      <td>0.317165</td>\n      <td>360,076,505</td>\n      <td>0.307754</td>\n      <td>0.310872</td>\n    </tr>\n    <tr>\n      <th>51</th>\n      <td>1/24/19</td>\n      <td>0.316416</td>\n      <td>0.318896</td>\n      <td>0.314433</td>\n      <td>0.317598</td>\n      <td>344,960,253</td>\n      <td>0.309278</td>\n      <td>0.310923</td>\n    </tr>\n    <tr>\n      <th>52</th>\n      <td>1/23/19</td>\n      <td>0.319566</td>\n      <td>0.320303</td>\n      <td>0.314923</td>\n      <td>0.316492</td>\n      <td>375,671,478</td>\n      <td>0.309836</td>\n      <td>0.310994</td>\n    </tr>\n    <tr>\n      <th>53</th>\n      <td>1/22/19</td>\n      <td>0.321078</td>\n      <td>0.321078</td>\n      <td>0.313455</td>\n      <td>0.319491</td>\n      <td>434,125,854</td>\n      <td>0.310934</td>\n      <td>0.311102</td>\n    </tr>\n    <tr>\n      <th>54</th>\n      <td>1/21/19</td>\n      <td>0.321179</td>\n      <td>0.322593</td>\n      <td>0.317439</td>\n      <td>0.320790</td>\n      <td>363,940,431</td>\n      <td>0.312009</td>\n      <td>0.311314</td>\n    </tr>\n    <tr>\n      <th>55</th>\n      <td>1/20/19</td>\n      <td>0.331220</td>\n      <td>0.332147</td>\n      <td>0.317609</td>\n      <td>0.321177</td>\n      <td>407,205,881</td>\n      <td>0.312081</td>\n      <td>0.311516</td>\n    </tr>\n    <tr>\n      <th>56</th>\n      <td>1/19/19</td>\n      <td>0.325702</td>\n      <td>0.333749</td>\n      <td>0.324911</td>\n      <td>0.331001</td>\n      <td>420,070,097</td>\n      <td>0.316225</td>\n      <td>0.311874</td>\n    </tr>\n    <tr>\n      <th>57</th>\n      <td>1/18/19</td>\n      <td>0.329196</td>\n      <td>0.329494</td>\n      <td>0.321856</td>\n      <td>0.324277</td>\n      <td>376,280,714</td>\n      <td>0.319166</td>\n      <td>0.312083</td>\n    </tr>\n    <tr>\n      <th>58</th>\n      <td>1/17/19</td>\n      <td>0.329690</td>\n      <td>0.330162</td>\n      <td>0.325740</td>\n      <td>0.329353</td>\n      <td>433,446,502</td>\n      <td>0.321158</td>\n      <td>0.312468</td>\n    </tr>\n    <tr>\n      <th>59</th>\n      <td>1/16/19</td>\n      <td>0.326946</td>\n      <td>0.334796</td>\n      <td>0.326174</td>\n      <td>0.329701</td>\n      <td>438,731,638</td>\n      <td>0.322705</td>\n      <td>0.312767</td>\n    </tr>\n    <tr>\n      <th>60</th>\n      <td>1/15/19</td>\n      <td>0.333912</td>\n      <td>0.336500</td>\n      <td>0.324011</td>\n      <td>0.327179</td>\n      <td>429,283,720</td>\n      <td>0.323706</td>\n      <td>0.312970</td>\n    </tr>\n    <tr>\n      <th>61</th>\n      <td>1/14/19</td>\n      <td>0.318354</td>\n      <td>0.337942</td>\n      <td>0.318354</td>\n      <td>0.333766</td>\n      <td>545,540,174</td>\n      <td>0.325323</td>\n      <td>0.313315</td>\n    </tr>\n    <tr>\n      <th>62</th>\n      <td>1/13/19</td>\n      <td>0.328662</td>\n      <td>0.333596</td>\n      <td>0.317098</td>\n      <td>0.317863</td>\n      <td>452,358,902</td>\n      <td>0.325460</td>\n      <td>0.313570</td>\n    </tr>\n    <tr>\n      <th>63</th>\n      <td>1/12/19</td>\n      <td>0.333004</td>\n      <td>0.336381</td>\n      <td>0.328033</td>\n      <td>0.328800</td>\n      <td>376,386,863</td>\n      <td>0.326391</td>\n      <td>0.313894</td>\n    </tr>\n    <tr>\n      <th>64</th>\n      <td>1/11/19</td>\n      <td>0.331284</td>\n      <td>0.337726</td>\n      <td>0.327914</td>\n      <td>0.332904</td>\n      <td>501,054,509</td>\n      <td>0.327602</td>\n      <td>0.314250</td>\n    </tr>\n    <tr>\n      <th>65</th>\n      <td>1/10/19</td>\n      <td>0.371464</td>\n      <td>0.381949</td>\n      <td>0.327159</td>\n      <td>0.332652</td>\n      <td>839,535,352</td>\n      <td>0.328750</td>\n      <td>0.314557</td>\n    </tr>\n    <tr>\n      <th>66</th>\n      <td>1/9/19</td>\n      <td>0.365886</td>\n      <td>0.373522</td>\n      <td>0.364756</td>\n      <td>0.370890</td>\n      <td>455,908,708</td>\n      <td>0.332739</td>\n      <td>0.315673</td>\n    </tr>\n    <tr>\n      <th>67</th>\n      <td>1/8/19</td>\n      <td>0.364420</td>\n      <td>0.370992</td>\n      <td>0.360734</td>\n      <td>0.365315</td>\n      <td>499,493,490</td>\n      <td>0.336842</td>\n      <td>0.316717</td>\n    </tr>\n    <tr>\n      <th>68</th>\n      <td>1/7/19</td>\n      <td>0.368854</td>\n      <td>0.377910</td>\n      <td>0.363387</td>\n      <td>0.364347</td>\n      <td>499,028,522</td>\n      <td>0.340342</td>\n      <td>0.317615</td>\n    </tr>\n  </tbody>\n</table>\n</div>", 
                        "text/plain": "       Date      Open      High       Low     Close       Volume      MA10  \\\n49  1/26/19  0.317260  0.319326  0.314235  0.314235  346,413,648  0.306057   \n50  1/25/19  0.317859  0.319069  0.313824  0.317165  360,076,505  0.307754   \n51  1/24/19  0.316416  0.318896  0.314433  0.317598  344,960,253  0.309278   \n52  1/23/19  0.319566  0.320303  0.314923  0.316492  375,671,478  0.309836   \n53  1/22/19  0.321078  0.321078  0.313455  0.319491  434,125,854  0.310934   \n54  1/21/19  0.321179  0.322593  0.317439  0.320790  363,940,431  0.312009   \n55  1/20/19  0.331220  0.332147  0.317609  0.321177  407,205,881  0.312081   \n56  1/19/19  0.325702  0.333749  0.324911  0.331001  420,070,097  0.316225   \n57  1/18/19  0.329196  0.329494  0.321856  0.324277  376,280,714  0.319166   \n58  1/17/19  0.329690  0.330162  0.325740  0.329353  433,446,502  0.321158   \n59  1/16/19  0.326946  0.334796  0.326174  0.329701  438,731,638  0.322705   \n60  1/15/19  0.333912  0.336500  0.324011  0.327179  429,283,720  0.323706   \n61  1/14/19  0.318354  0.337942  0.318354  0.333766  545,540,174  0.325323   \n62  1/13/19  0.328662  0.333596  0.317098  0.317863  452,358,902  0.325460   \n63  1/12/19  0.333004  0.336381  0.328033  0.328800  376,386,863  0.326391   \n64  1/11/19  0.331284  0.337726  0.327914  0.332904  501,054,509  0.327602   \n65  1/10/19  0.371464  0.381949  0.327159  0.332652  839,535,352  0.328750   \n66   1/9/19  0.365886  0.373522  0.364756  0.370890  455,908,708  0.332739   \n67   1/8/19  0.364420  0.370992  0.360734  0.365315  499,493,490  0.336842   \n68   1/7/19  0.368854  0.377910  0.363387  0.364347  499,028,522  0.340342   \n\n        MA50  \n49  0.310938  \n50  0.310872  \n51  0.310923  \n52  0.310994  \n53  0.311102  \n54  0.311314  \n55  0.311516  \n56  0.311874  \n57  0.312083  \n58  0.312468  \n59  0.312767  \n60  0.312970  \n61  0.313315  \n62  0.313570  \n63  0.313894  \n64  0.314250  \n65  0.314557  \n66  0.315673  \n67  0.316717  \n68  0.317615  "
                    }, 
                    "output_type": "execute_result"
                }
            ], 
            "source": "df_xrp.head(20)"
        }, 
        {
            "source": "### Probability price will drop over a certain percentage in one day", 
            "cell_type": "markdown", 
            "metadata": {}
        }, 
        {
            "execution_count": 47, 
            "cell_type": "code", 
            "metadata": {}, 
            "outputs": [
                {
                    "output_type": "stream", 
                    "name": "stdout", 
                    "text": "The Probability XRP will drop over 5% in one day is 0.174730265657\n"
                }
            ], 
            "source": "# probability that the price of xrp will drop over 5% in a day\nprob_return1 = norm.cdf(-0.05, mu, sigma)\nprint('The probability XRP will drop over 5% in one day is', prob_return1)"
        }, 
        {
            "execution_count": 48, 
            "cell_type": "code", 
            "metadata": {}, 
            "outputs": [
                {
                    "output_type": "stream", 
                    "name": "stdout", 
                    "text": "The probability XRP will drop over 10% in one day is 0.0335484659469\n"
                }
            ], 
            "source": "# probability that the price of xrp will drop over 10% in a day\nprob_return2 = norm.cdf(-0.10, mu, sigma)\nprint('The probability XRP will drop over 10% in one day is', prob_return2)"
        }, 
        {
            "source": "### Probability price will drop over a certain percentage over time", 
            "cell_type": "markdown", 
            "metadata": {}
        }, 
        {
            "execution_count": 49, 
            "cell_type": "code", 
            "metadata": {}, 
            "outputs": [
                {
                    "output_type": "stream", 
                    "name": "stdout", 
                    "text": "The probability of dropping over 10% in 7 days is 0.216714787853\n"
                }
            ], 
            "source": "# drop over 10% in 7 days\nmu7 = 7*mu\nsigma7 = (7**0.5) * sigma\ndrop10 = norm.cdf(-0.1, mu7, sigma7)\nprint('The probability of dropping over 10% in 7 days is', drop10)"
        }, 
        {
            "execution_count": 50, 
            "cell_type": "code", 
            "metadata": {}, 
            "outputs": [
                {
                    "output_type": "stream", 
                    "name": "stdout", 
                    "text": "The probability of dropping over 20% in 7 days is 0.0721194623322\n"
                }
            ], 
            "source": "# drop over 20% in 7 days\nmu7 = 7*mu\nsigma7 = (7**0.5) * sigma\ndrop20 = norm.cdf(-0.2, mu7, sigma7)\nprint('The probability of dropping over 20% in 7 days is', drop20)"
        }, 
        {
            "execution_count": 51, 
            "cell_type": "code", 
            "metadata": {}, 
            "outputs": [
                {
                    "output_type": "stream", 
                    "name": "stdout", 
                    "text": "The probability of dropping over 10% in 14 days is 0.264609068825\n"
                }
            ], 
            "source": "# drop over 10% in 14 days\nmu14 = 14*mu\nsigma14 = (14**0.5) * sigma\ndrop10 = norm.cdf(-0.1, mu14, sigma14)\nprint('The probability of dropping over 10% in 14 days is', drop10)"
        }, 
        {
            "execution_count": 52, 
            "cell_type": "code", 
            "metadata": {}, 
            "outputs": [
                {
                    "output_type": "stream", 
                    "name": "stdout", 
                    "text": "The probability of dropping over 20% in 30 days is 0.190964546053\n"
                }
            ], 
            "source": "# drop over 20% in 30 days\nmu30 = 30*mu\nsigma30 = (30**0.5) * sigma\ndrop20 = norm.cdf(-0.2, mu30, sigma30)\nprint('The probability of dropping over 20% in 30 days is', drop20)"
        }, 
        {
            "execution_count": 53, 
            "cell_type": "code", 
            "metadata": {}, 
            "outputs": [
                {
                    "output_type": "stream", 
                    "name": "stdout", 
                    "text": "The probability of dropping over 30% in 30 days is 0.11481803177\n"
                }
            ], 
            "source": "# drop over 30% in 30 days\nmu30 = 30*mu\nsigma30 = (30**0.5) * sigma\ndrop30 = norm.cdf(-0.3, mu30, sigma30)\nprint('The probability of dropping over 30% in 30 days is', drop30)"
        }, 
        {
            "execution_count": 54, 
            "cell_type": "code", 
            "metadata": {}, 
            "outputs": [
                {
                    "output_type": "stream", 
                    "name": "stdout", 
                    "text": "The probability of dropping over 20% in 220 days is 0.200890287226\n"
                }
            ], 
            "source": "# drop over 20% in 220 days\nmu220 = 220*mu\nsigma220 = (220**0.5) * sigma\ndrop20 = norm.cdf(-0.2, mu220, sigma220)\nprint('The probability of dropping over 20% in 220 days is', drop20)"
        }, 
        {
            "execution_count": 55, 
            "cell_type": "code", 
            "metadata": {}, 
            "outputs": [
                {
                    "output_type": "stream", 
                    "name": "stdout", 
                    "text": "The probability of dropping over 40% in 220 days is 0.140090321021\n"
                }
            ], 
            "source": "# drop over 40% in 220 days\nmu220 = 220*mu\nsigma220 = (220**0.5) * sigma\ndrop40 = norm.cdf(-0.4, mu220, sigma220)\nprint('The probability of dropping over 40% in 220 days is', drop40)"
        }, 
        {
            "source": "### For education purposes only. This information is not financial advice.", 
            "cell_type": "markdown", 
            "metadata": {}
        }
    ], 
    "metadata": {
        "kernelspec": {
            "display_name": "Python 3.5", 
            "name": "python3", 
            "language": "python"
        }, 
        "language_info": {
            "mimetype": "text/x-python", 
            "nbconvert_exporter": "python", 
            "version": "3.5.5", 
            "name": "python", 
            "file_extension": ".py", 
            "pygments_lexer": "ipython3", 
            "codemirror_mode": {
                "version": 3, 
                "name": "ipython"
            }
        }
    }, 
    "nbformat": 4
}