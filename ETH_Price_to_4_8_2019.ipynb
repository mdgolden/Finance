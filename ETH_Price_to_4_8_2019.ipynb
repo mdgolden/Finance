{
    "nbformat_minor": 1, 
    "cells": [
        {
            "source": "### Analysis of ETH Based On Previous 365 Days of Trading Data", 
            "cell_type": "markdown", 
            "metadata": {}
        }, 
        {
            "execution_count": 14, 
            "cell_type": "code", 
            "metadata": {}, 
            "outputs": [
                {
                    "execution_count": 14, 
                    "metadata": {}, 
                    "data": {
                        "text/plain": "(365, 6)"
                    }, 
                    "output_type": "execute_result"
                }
            ], 
            "source": "df_eth.shape"
        }, 
        {
            "execution_count": 15, 
            "cell_type": "code", 
            "metadata": {}, 
            "outputs": [
                {
                    "execution_count": 15, 
                    "metadata": {}, 
                    "data": {
                        "text/html": "<div>\n<style scoped>\n    .dataframe tbody tr th:only-of-type {\n        vertical-align: middle;\n    }\n\n    .dataframe tbody tr th {\n        vertical-align: top;\n    }\n\n    .dataframe thead th {\n        text-align: right;\n    }\n</style>\n<table border=\"1\" class=\"dataframe\">\n  <thead>\n    <tr style=\"text-align: right;\">\n      <th></th>\n      <th>Date</th>\n      <th>Open</th>\n      <th>High</th>\n      <th>Low</th>\n      <th>Close</th>\n      <th>Volume</th>\n    </tr>\n  </thead>\n  <tbody>\n    <tr>\n      <th>0</th>\n      <td>4/8/19</td>\n      <td>174.45</td>\n      <td>184.38</td>\n      <td>174.16</td>\n      <td>180.26</td>\n      <td>9,304,964,610</td>\n    </tr>\n    <tr>\n      <th>1</th>\n      <td>4/7/19</td>\n      <td>165.98</td>\n      <td>175.21</td>\n      <td>164.93</td>\n      <td>174.53</td>\n      <td>7,596,176,020</td>\n    </tr>\n    <tr>\n      <th>2</th>\n      <td>4/6/19</td>\n      <td>165.51</td>\n      <td>172.52</td>\n      <td>161.80</td>\n      <td>165.95</td>\n      <td>7,167,016,221</td>\n    </tr>\n    <tr>\n      <th>3</th>\n      <td>4/5/19</td>\n      <td>158.02</td>\n      <td>167.22</td>\n      <td>157.44</td>\n      <td>165.51</td>\n      <td>7,531,316,908</td>\n    </tr>\n    <tr>\n      <th>4</th>\n      <td>4/4/19</td>\n      <td>161.43</td>\n      <td>164.93</td>\n      <td>155.24</td>\n      <td>158.05</td>\n      <td>7,953,123,529</td>\n    </tr>\n    <tr>\n      <th>5</th>\n      <td>4/3/19</td>\n      <td>164.01</td>\n      <td>178.32</td>\n      <td>157.32</td>\n      <td>161.46</td>\n      <td>10,622,456,246</td>\n    </tr>\n    <tr>\n      <th>6</th>\n      <td>4/2/19</td>\n      <td>141.84</td>\n      <td>165.23</td>\n      <td>141.64</td>\n      <td>163.96</td>\n      <td>9,826,645,698</td>\n    </tr>\n    <tr>\n      <th>7</th>\n      <td>4/1/19</td>\n      <td>141.47</td>\n      <td>142.73</td>\n      <td>140.74</td>\n      <td>141.83</td>\n      <td>4,611,999,536</td>\n    </tr>\n    <tr>\n      <th>8</th>\n      <td>3/31/19</td>\n      <td>142.14</td>\n      <td>142.19</td>\n      <td>140.70</td>\n      <td>141.51</td>\n      <td>4,249,050,197</td>\n    </tr>\n    <tr>\n      <th>9</th>\n      <td>3/30/19</td>\n      <td>142.36</td>\n      <td>149.61</td>\n      <td>141.03</td>\n      <td>142.09</td>\n      <td>5,144,662,127</td>\n    </tr>\n    <tr>\n      <th>10</th>\n      <td>3/29/19</td>\n      <td>139.34</td>\n      <td>142.55</td>\n      <td>138.05</td>\n      <td>142.50</td>\n      <td>5,125,602,702</td>\n    </tr>\n    <tr>\n      <th>11</th>\n      <td>3/28/19</td>\n      <td>141.01</td>\n      <td>141.01</td>\n      <td>138.43</td>\n      <td>139.42</td>\n      <td>4,163,212,475</td>\n    </tr>\n    <tr>\n      <th>12</th>\n      <td>3/27/19</td>\n      <td>135.45</td>\n      <td>141.08</td>\n      <td>135.34</td>\n      <td>140.99</td>\n      <td>5,228,240,093</td>\n    </tr>\n    <tr>\n      <th>13</th>\n      <td>3/26/19</td>\n      <td>135.05</td>\n      <td>135.46</td>\n      <td>133.76</td>\n      <td>135.46</td>\n      <td>4,499,271,679</td>\n    </tr>\n    <tr>\n      <th>14</th>\n      <td>3/25/19</td>\n      <td>137.08</td>\n      <td>137.70</td>\n      <td>133.49</td>\n      <td>135.03</td>\n      <td>4,480,516,753</td>\n    </tr>\n    <tr>\n      <th>15</th>\n      <td>3/24/19</td>\n      <td>138.32</td>\n      <td>138.38</td>\n      <td>136.31</td>\n      <td>136.99</td>\n      <td>4,266,845,458</td>\n    </tr>\n    <tr>\n      <th>16</th>\n      <td>3/23/19</td>\n      <td>137.04</td>\n      <td>139.39</td>\n      <td>136.91</td>\n      <td>138.24</td>\n      <td>4,436,568,613</td>\n    </tr>\n    <tr>\n      <th>17</th>\n      <td>3/22/19</td>\n      <td>136.56</td>\n      <td>138.79</td>\n      <td>136.23</td>\n      <td>137.18</td>\n      <td>4,490,899,266</td>\n    </tr>\n    <tr>\n      <th>18</th>\n      <td>3/21/19</td>\n      <td>140.48</td>\n      <td>141.00</td>\n      <td>135.86</td>\n      <td>136.64</td>\n      <td>5,087,247,796</td>\n    </tr>\n    <tr>\n      <th>19</th>\n      <td>3/20/19</td>\n      <td>140.48</td>\n      <td>140.95</td>\n      <td>138.31</td>\n      <td>140.69</td>\n      <td>4,664,134,462</td>\n    </tr>\n    <tr>\n      <th>20</th>\n      <td>3/19/19</td>\n      <td>139.25</td>\n      <td>140.99</td>\n      <td>139.14</td>\n      <td>140.52</td>\n      <td>4,251,488,129</td>\n    </tr>\n  </tbody>\n</table>\n</div>", 
                        "text/plain": "       Date    Open    High     Low   Close          Volume\n0    4/8/19  174.45  184.38  174.16  180.26   9,304,964,610\n1    4/7/19  165.98  175.21  164.93  174.53   7,596,176,020\n2    4/6/19  165.51  172.52  161.80  165.95   7,167,016,221\n3    4/5/19  158.02  167.22  157.44  165.51   7,531,316,908\n4    4/4/19  161.43  164.93  155.24  158.05   7,953,123,529\n5    4/3/19  164.01  178.32  157.32  161.46  10,622,456,246\n6    4/2/19  141.84  165.23  141.64  163.96   9,826,645,698\n7    4/1/19  141.47  142.73  140.74  141.83   4,611,999,536\n8   3/31/19  142.14  142.19  140.70  141.51   4,249,050,197\n9   3/30/19  142.36  149.61  141.03  142.09   5,144,662,127\n10  3/29/19  139.34  142.55  138.05  142.50   5,125,602,702\n11  3/28/19  141.01  141.01  138.43  139.42   4,163,212,475\n12  3/27/19  135.45  141.08  135.34  140.99   5,228,240,093\n13  3/26/19  135.05  135.46  133.76  135.46   4,499,271,679\n14  3/25/19  137.08  137.70  133.49  135.03   4,480,516,753\n15  3/24/19  138.32  138.38  136.31  136.99   4,266,845,458\n16  3/23/19  137.04  139.39  136.91  138.24   4,436,568,613\n17  3/22/19  136.56  138.79  136.23  137.18   4,490,899,266\n18  3/21/19  140.48  141.00  135.86  136.64   5,087,247,796\n19  3/20/19  140.48  140.95  138.31  140.69   4,664,134,462\n20  3/19/19  139.25  140.99  139.14  140.52   4,251,488,129"
                    }, 
                    "output_type": "execute_result"
                }
            ], 
            "source": "df_eth.head(21)"
        }, 
        {
            "execution_count": 17, 
            "cell_type": "code", 
            "metadata": {}, 
            "outputs": [
                {
                    "execution_count": 17, 
                    "metadata": {}, 
                    "data": {
                        "text/html": "<div>\n<style scoped>\n    .dataframe tbody tr th:only-of-type {\n        vertical-align: middle;\n    }\n\n    .dataframe tbody tr th {\n        vertical-align: top;\n    }\n\n    .dataframe thead th {\n        text-align: right;\n    }\n</style>\n<table border=\"1\" class=\"dataframe\">\n  <thead>\n    <tr style=\"text-align: right;\">\n      <th></th>\n      <th>Date</th>\n      <th>Open</th>\n      <th>High</th>\n      <th>Low</th>\n      <th>Close</th>\n      <th>Volume</th>\n      <th>MA10</th>\n      <th>MA50</th>\n    </tr>\n  </thead>\n  <tbody>\n    <tr>\n      <th>49</th>\n      <td>2/18/19</td>\n      <td>133.03</td>\n      <td>147.69</td>\n      <td>133.00</td>\n      <td>146.10</td>\n      <td>5,387,525,773</td>\n      <td>144.491</td>\n      <td>143.0068</td>\n    </tr>\n    <tr>\n      <th>50</th>\n      <td>2/17/19</td>\n      <td>123.18</td>\n      <td>134.46</td>\n      <td>123.09</td>\n      <td>133.60</td>\n      <td>4,236,081,130</td>\n      <td>144.238</td>\n      <td>142.0736</td>\n    </tr>\n    <tr>\n      <th>51</th>\n      <td>2/16/19</td>\n      <td>122.40</td>\n      <td>124.13</td>\n      <td>122.30</td>\n      <td>123.26</td>\n      <td>2,905,833,287</td>\n      <td>142.755</td>\n      <td>141.0482</td>\n    </tr>\n    <tr>\n      <th>52</th>\n      <td>2/15/19</td>\n      <td>121.45</td>\n      <td>123.66</td>\n      <td>121.37</td>\n      <td>122.10</td>\n      <td>3,021,741,615</td>\n      <td>140.983</td>\n      <td>140.1712</td>\n    </tr>\n    <tr>\n      <th>53</th>\n      <td>2/14/19</td>\n      <td>122.42</td>\n      <td>124.45</td>\n      <td>121.33</td>\n      <td>121.39</td>\n      <td>3,331,701,628</td>\n      <td>139.537</td>\n      <td>139.2888</td>\n    </tr>\n    <tr>\n      <th>54</th>\n      <td>2/13/19</td>\n      <td>122.54</td>\n      <td>125.55</td>\n      <td>121.61</td>\n      <td>122.55</td>\n      <td>3,386,585,799</td>\n      <td>135.912</td>\n      <td>138.5788</td>\n    </tr>\n    <tr>\n      <th>55</th>\n      <td>2/12/19</td>\n      <td>121.18</td>\n      <td>123.47</td>\n      <td>119.60</td>\n      <td>122.57</td>\n      <td>3,149,576,429</td>\n      <td>133.260</td>\n      <td>137.8010</td>\n    </tr>\n    <tr>\n      <th>56</th>\n      <td>2/11/19</td>\n      <td>124.87</td>\n      <td>124.87</td>\n      <td>120.31</td>\n      <td>121.30</td>\n      <td>3,222,473,887</td>\n      <td>130.777</td>\n      <td>136.9478</td>\n    </tr>\n    <tr>\n      <th>57</th>\n      <td>2/10/19</td>\n      <td>119.41</td>\n      <td>124.85</td>\n      <td>117.11</td>\n      <td>124.81</td>\n      <td>3,148,766,590</td>\n      <td>128.303</td>\n      <td>136.6074</td>\n    </tr>\n    <tr>\n      <th>58</th>\n      <td>2/9/19</td>\n      <td>119.21</td>\n      <td>120.69</td>\n      <td>118.00</td>\n      <td>119.43</td>\n      <td>2,884,650,400</td>\n      <td>125.711</td>\n      <td>136.1658</td>\n    </tr>\n    <tr>\n      <th>59</th>\n      <td>2/8/19</td>\n      <td>104.65</td>\n      <td>119.81</td>\n      <td>104.19</td>\n      <td>119.27</td>\n      <td>3,656,841,347</td>\n      <td>123.028</td>\n      <td>135.7094</td>\n    </tr>\n    <tr>\n      <th>60</th>\n      <td>2/7/19</td>\n      <td>104.84</td>\n      <td>106.06</td>\n      <td>104.41</td>\n      <td>104.54</td>\n      <td>2,326,764,622</td>\n      <td>120.122</td>\n      <td>134.9502</td>\n    </tr>\n    <tr>\n      <th>61</th>\n      <td>2/6/19</td>\n      <td>107.57</td>\n      <td>107.57</td>\n      <td>102.93</td>\n      <td>104.92</td>\n      <td>2,593,048,199</td>\n      <td>118.288</td>\n      <td>134.2602</td>\n    </tr>\n    <tr>\n      <th>62</th>\n      <td>2/5/19</td>\n      <td>107.63</td>\n      <td>108.13</td>\n      <td>106.91</td>\n      <td>107.44</td>\n      <td>2,515,863,999</td>\n      <td>116.822</td>\n      <td>133.5892</td>\n    </tr>\n    <tr>\n      <th>63</th>\n      <td>2/4/19</td>\n      <td>107.63</td>\n      <td>108.70</td>\n      <td>107.07</td>\n      <td>107.82</td>\n      <td>2,491,888,675</td>\n      <td>115.465</td>\n      <td>133.0364</td>\n    </tr>\n    <tr>\n      <th>64</th>\n      <td>2/3/19</td>\n      <td>110.49</td>\n      <td>110.83</td>\n      <td>106.56</td>\n      <td>107.49</td>\n      <td>2,519,334,757</td>\n      <td>113.959</td>\n      <td>132.4856</td>\n    </tr>\n    <tr>\n      <th>65</th>\n      <td>2/2/19</td>\n      <td>107.47</td>\n      <td>110.65</td>\n      <td>106.76</td>\n      <td>110.43</td>\n      <td>2,385,157,838</td>\n      <td>112.745</td>\n      <td>131.9544</td>\n    </tr>\n    <tr>\n      <th>66</th>\n      <td>2/1/19</td>\n      <td>107.15</td>\n      <td>108.64</td>\n      <td>105.05</td>\n      <td>107.61</td>\n      <td>2,541,271,519</td>\n      <td>111.376</td>\n      <td>131.3418</td>\n    </tr>\n    <tr>\n      <th>67</th>\n      <td>1/31/19</td>\n      <td>108.90</td>\n      <td>110.46</td>\n      <td>106.53</td>\n      <td>107.06</td>\n      <td>2,828,796,031</td>\n      <td>109.601</td>\n      <td>130.7394</td>\n    </tr>\n    <tr>\n      <th>68</th>\n      <td>1/30/19</td>\n      <td>105.41</td>\n      <td>109.45</td>\n      <td>104.84</td>\n      <td>108.91</td>\n      <td>2,874,370,355</td>\n      <td>108.549</td>\n      <td>130.1848</td>\n    </tr>\n  </tbody>\n</table>\n</div>", 
                        "text/plain": "       Date    Open    High     Low   Close         Volume     MA10      MA50\n49  2/18/19  133.03  147.69  133.00  146.10  5,387,525,773  144.491  143.0068\n50  2/17/19  123.18  134.46  123.09  133.60  4,236,081,130  144.238  142.0736\n51  2/16/19  122.40  124.13  122.30  123.26  2,905,833,287  142.755  141.0482\n52  2/15/19  121.45  123.66  121.37  122.10  3,021,741,615  140.983  140.1712\n53  2/14/19  122.42  124.45  121.33  121.39  3,331,701,628  139.537  139.2888\n54  2/13/19  122.54  125.55  121.61  122.55  3,386,585,799  135.912  138.5788\n55  2/12/19  121.18  123.47  119.60  122.57  3,149,576,429  133.260  137.8010\n56  2/11/19  124.87  124.87  120.31  121.30  3,222,473,887  130.777  136.9478\n57  2/10/19  119.41  124.85  117.11  124.81  3,148,766,590  128.303  136.6074\n58   2/9/19  119.21  120.69  118.00  119.43  2,884,650,400  125.711  136.1658\n59   2/8/19  104.65  119.81  104.19  119.27  3,656,841,347  123.028  135.7094\n60   2/7/19  104.84  106.06  104.41  104.54  2,326,764,622  120.122  134.9502\n61   2/6/19  107.57  107.57  102.93  104.92  2,593,048,199  118.288  134.2602\n62   2/5/19  107.63  108.13  106.91  107.44  2,515,863,999  116.822  133.5892\n63   2/4/19  107.63  108.70  107.07  107.82  2,491,888,675  115.465  133.0364\n64   2/3/19  110.49  110.83  106.56  107.49  2,519,334,757  113.959  132.4856\n65   2/2/19  107.47  110.65  106.76  110.43  2,385,157,838  112.745  131.9544\n66   2/1/19  107.15  108.64  105.05  107.61  2,541,271,519  111.376  131.3418\n67  1/31/19  108.90  110.46  106.53  107.06  2,828,796,031  109.601  130.7394\n68  1/30/19  105.41  109.45  104.84  108.91  2,874,370,355  108.549  130.1848"
                    }, 
                    "output_type": "execute_result"
                }
            ], 
            "source": "df_eth.head(20)"
        }, 
        {
            "source": "### Probability price will drop over a certain percentage in one day", 
            "cell_type": "markdown", 
            "metadata": {}
        }, 
        {
            "execution_count": 25, 
            "cell_type": "code", 
            "metadata": {}, 
            "outputs": [
                {
                    "output_type": "stream", 
                    "name": "stdout", 
                    "text": "The probability is 0.15307828856\n"
                }
            ], 
            "source": "# probability that the price of ETH will drop over 5% in a day\nprob_return1 = norm.cdf(-0.05, mu, sigma)\nprint('The probability is', prob_return1)"
        }, 
        {
            "execution_count": 26, 
            "cell_type": "code", 
            "metadata": {}, 
            "outputs": [
                {
                    "output_type": "stream", 
                    "name": "stdout", 
                    "text": "The probability is 0.0235530107563\n"
                }
            ], 
            "source": "# probability that the price of ETH will drop over 10% in a day\nprob_return2 = norm.cdf(-0.10, mu, sigma)\nprint('The probability is', prob_return2)"
        }, 
        {
            "source": "### Probability price will drop over a certain percentage over time", 
            "cell_type": "markdown", 
            "metadata": {}
        }, 
        {
            "execution_count": 27, 
            "cell_type": "code", 
            "metadata": {}, 
            "outputs": [
                {
                    "output_type": "stream", 
                    "name": "stdout", 
                    "text": "The probability of dropping over 10% in 7 days is 0.186896097265\n"
                }
            ], 
            "source": "# drop over 10% in 7 days\nmu7 = 7*mu\nsigma7 = (7**0.5) * sigma\ndrop10 = norm.cdf(-0.1, mu7, sigma7)\nprint('The probability of dropping over 10% in 7 days is', drop10)"
        }, 
        {
            "execution_count": 28, 
            "cell_type": "code", 
            "metadata": {}, 
            "outputs": [
                {
                    "output_type": "stream", 
                    "name": "stdout", 
                    "text": "The probability of dropping over 20% in 7 days is 0.0529806460355\n"
                }
            ], 
            "source": "# drop over 20% in 7 days\nmu7 = 7*mu\nsigma7 = (7**0.5) * sigma\ndrop20 = norm.cdf(-0.2, mu7, sigma7)\nprint('The probability of dropping over 20% in 7 days is', drop20)"
        }, 
        {
            "execution_count": 29, 
            "cell_type": "code", 
            "metadata": {}, 
            "outputs": [
                {
                    "output_type": "stream", 
                    "name": "stdout", 
                    "text": "The probability of dropping over 10% in 14 days is 0.228569387549\n"
                }
            ], 
            "source": "# drop over 10% in 14 days\nmu14 = 14*mu\nsigma14 = (14**0.5) * sigma\ndrop10 = norm.cdf(-0.1, mu14, sigma14)\nprint('The probability of dropping over 10% in 14 days is', drop10)"
        }, 
        {
            "execution_count": 30, 
            "cell_type": "code", 
            "metadata": {}, 
            "outputs": [
                {
                    "output_type": "stream", 
                    "name": "stdout", 
                    "text": "The probability of dropping over 20% in 30 days is 0.14956828905\n"
                }
            ], 
            "source": "# drop over 20% in 30 days\nmu30 = 30*mu\nsigma30 = (30**0.5) * sigma\ndrop20 = norm.cdf(-0.2, mu30, sigma30)\nprint('The probability of dropping over 20% in 30 days is', drop20)"
        }, 
        {
            "execution_count": 31, 
            "cell_type": "code", 
            "metadata": {}, 
            "outputs": [
                {
                    "output_type": "stream", 
                    "name": "stdout", 
                    "text": "The probability of dropping over 30% in 30 days is 0.0823299168533\n"
                }
            ], 
            "source": "# drop over 30% in 30 days\nmu30 = 30*mu\nsigma30 = (30**0.5) * sigma\ndrop30 = norm.cdf(-0.3, mu30, sigma30)\nprint('The probability of dropping over 30% in 30 days is', drop30)"
        }, 
        {
            "execution_count": 32, 
            "cell_type": "code", 
            "metadata": {}, 
            "outputs": [
                {
                    "output_type": "stream", 
                    "name": "stdout", 
                    "text": "The probability of dropping over 20% in 220 days is 0.121286476241\n"
                }
            ], 
            "source": "# drop over 20% in 220 days\nmu220 = 220*mu\nsigma220 = (220**0.5) * sigma\ndrop20 = norm.cdf(-0.2, mu220, sigma220)\nprint('The probability of dropping over 20% in 220 days is', drop20)"
        }, 
        {
            "execution_count": 33, 
            "cell_type": "code", 
            "metadata": {}, 
            "outputs": [
                {
                    "output_type": "stream", 
                    "name": "stdout", 
                    "text": "The probability of dropping over 40% in 220 days is 0.0766432107415\n"
                }
            ], 
            "source": "# drop over 40% in 220 days\nmu220 = 220*mu\nsigma220 = (220**0.5) * sigma\ndrop40 = norm.cdf(-0.4, mu220, sigma220)\nprint('The probability of dropping over 40% in 220 days is', drop40)"
        }, 
        {
            "source": "### For educational use only. This information is not financial advice.", 
            "cell_type": "markdown", 
            "metadata": {}
        }
    ], 
    "metadata": {
        "kernelspec": {
            "display_name": "Python 3.5", 
            "name": "python3", 
            "language": "python"
        }, 
        "language_info": {
            "mimetype": "text/x-python", 
            "nbconvert_exporter": "python", 
            "version": "3.5.5", 
            "name": "python", 
            "file_extension": ".py", 
            "pygments_lexer": "ipython3", 
            "codemirror_mode": {
                "version": 3, 
                "name": "ipython"
            }
        }
    }, 
    "nbformat": 4
}